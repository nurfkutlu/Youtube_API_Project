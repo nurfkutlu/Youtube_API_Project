{
 "cells": [
  {
   "cell_type": "code",
   "execution_count": 114,
   "metadata": {},
   "outputs": [],
   "source": [
    "# https://developers.google.com/youtube/v3/getting-started?hl=tr\n",
    "# https://console.cloud.google.com/welcome?hl=tr&project=peak-hangout-408406\n",
    "# https://developers.google.com/youtube/v3/quickstart/python?hl=tr\n",
    "# https://developers.google.com/youtube/v3/docs/channels/list?hl=tr      # list (by channel ID)\n",
    "# https://developers.google.com/youtube/v3/docs/channels?hl=tr\n",
    "# Youtube Chanel ID "
   ]
  },
  {
   "cell_type": "code",
   "execution_count": 115,
   "metadata": {},
   "outputs": [],
   "source": [
    "#json editor online"
   ]
  },
  {
   "cell_type": "code",
   "execution_count": 116,
   "metadata": {},
   "outputs": [],
   "source": [
    "from config import Youtube_API_Key # pip install google-api-python-client for config.config"
   ]
  },
  {
   "cell_type": "code",
   "execution_count": 117,
   "metadata": {},
   "outputs": [],
   "source": [
    "from googleapiclient.discovery import build\n",
    "from IPython.display import JSON\n",
    "import pandas as pd"
   ]
  },
  {
   "cell_type": "markdown",
   "metadata": {},
   "source": [
    "Try This Method , but didnt use it because of useless for own private codes"
   ]
  },
  {
   "cell_type": "code",
   "execution_count": 118,
   "metadata": {},
   "outputs": [
    {
     "data": {
      "text/plain": [
       "' import os\\n\\nimport google_auth_oauthlib.flow\\nimport googleapiclient.discovery\\nimport googleapiclient.errors\\n'"
      ]
     },
     "execution_count": 118,
     "metadata": {},
     "output_type": "execute_result"
    }
   ],
   "source": [
    "\"\"\" import os\n",
    "\n",
    "import google_auth_oauthlib.flow\n",
    "import googleapiclient.discovery\n",
    "import googleapiclient.errors\n",
    "\"\"\""
   ]
  },
  {
   "cell_type": "markdown",
   "metadata": {},
   "source": [
    "## Chanel"
   ]
  },
  {
   "cell_type": "code",
   "execution_count": 119,
   "metadata": {},
   "outputs": [
    {
     "data": {
      "text/plain": [
       "' \\napi_service_name = \"youtube\"\\napi_version = \"v3\"\\n\\nclient_secrets_file = \"YOUR_CLIENT_SECRET_FILE.json\"\\n\\n# Get credentials and create an API client\\nflow = google_auth_oauthlib.flow.InstalledAppFlow.from_client_secrets_file(\\n    client_secrets_file, scopes)\\ncredentials = flow.run_console()\\nyoutube = googleapiclient.discovery.build(\\n    api_service_name, api_version, credentials=credentials)      #BİZİM İÇİN ÖNEMLİ NOKTA, Credentialslara API key atayarak yapalim.\\n\\nrequest = youtube.channels().list(\\n    part=\"snippet,contentDetails,statistics\",\\n    id=\"UC_x5XG1OV2P6uZZ5FSM9Ttw\"\\n)\\nresponse = request.execute()\\n\\nprint(response)\\n\\n'"
      ]
     },
     "execution_count": 119,
     "metadata": {},
     "output_type": "execute_result"
    }
   ],
   "source": [
    "# Youtube Service  Direct Code, Try this method\n",
    "\"\"\" \n",
    "api_service_name = \"youtube\"\n",
    "api_version = \"v3\"\n",
    "\n",
    "client_secrets_file = \"YOUR_CLIENT_SECRET_FILE.json\"\n",
    "\n",
    "# Get credentials and create an API client\n",
    "flow = google_auth_oauthlib.flow.InstalledAppFlow.from_client_secrets_file(\n",
    "    client_secrets_file, scopes)\n",
    "credentials = flow.run_console()\n",
    "youtube = googleapiclient.discovery.build(\n",
    "    api_service_name, api_version, credentials=credentials)      #BİZİM İÇİN ÖNEMLİ NOKTA, Credentialslara API key atayarak yapalim.\n",
    "\n",
    "request = youtube.channels().list(\n",
    "    part=\"snippet,contentDetails,statistics\",\n",
    "    id=\"UC_x5XG1OV2P6uZZ5FSM9Ttw\"\n",
    ")\n",
    "response = request.execute()\n",
    "\n",
    "print(response)\n",
    "\n",
    "\"\"\""
   ]
  },
  {
   "cell_type": "markdown",
   "metadata": {},
   "source": [
    "### Path"
   ]
  },
  {
   "cell_type": "markdown",
   "metadata": {},
   "source": [
    "Your main aim : Pull response and turn to json method and analyze from this structure."
   ]
  },
  {
   "cell_type": "code",
   "execution_count": 120,
   "metadata": {},
   "outputs": [
    {
     "data": {
      "text/plain": [
       "' \\nTo see json response ;\\n\\ngo https://jsonformatter.org/json-editor\\nand \\nwrite \\nJSON(response) \\n'"
      ]
     },
     "execution_count": 120,
     "metadata": {},
     "output_type": "execute_result"
    }
   ],
   "source": [
    "# 1) response = request.execute()\n",
    "\n",
    "\n",
    "#Revised Code by Teacher , by our API Key.\n",
    "\n",
    "# 2 Request\n",
    "\n",
    "# I dont need credential version. I need request code. So ı will write it like :\n",
    "\"\"\" request = youtube.channels().list(\n",
    "    part=\"snippet,contentDetails,statistics\",\n",
    "    id=\",\".join(channel_ids)\n",
    "\"\"\"\n",
    "\n",
    "# 3 Youtube\n",
    "\n",
    "# I need youtube :\n",
    "\"\"\" \n",
    "youtube = build(\n",
    "    api_service_name, api_version, developerKey=Youtube_API_Key)\n",
    "\"\"\"\n",
    "\n",
    "# Again ı turn request : \n",
    "\"\"\" \n",
    "Normally, id = \"UC_x5XG1OV2P6uZZ5FSM9Ttw\" given , but we write  < id=\",\".join(channel_ids)> \n",
    "\"\"\"\n",
    "# How can ı create channel_ids ?\n",
    "\n",
    "\"\"\" \n",
    " Use , https://www.streamweasels.com/tools/youtube-channel-id-and-user-id-convertor/\n",
    "\"\"\"\n",
    "#My main idea print response  ;\n",
    "\"\"\" \n",
    "To see json response ;\n",
    "\n",
    "go https://jsonformatter.org/json-editor\n",
    "and \n",
    "write \n",
    "JSON(response) \n",
    "\"\"\"\n",
    "\n",
    " # Solution Time \n",
    "#Define Methods;\n"
   ]
  },
  {
   "cell_type": "markdown",
   "metadata": {},
   "source": [
    "### Solution"
   ]
  },
  {
   "cell_type": "code",
   "execution_count": 121,
   "metadata": {},
   "outputs": [
    {
     "name": "stdout",
     "output_type": "stream",
     "text": [
      "{'kind': 'youtube#channelListResponse', 'etag': 'wt-lcFz9ri-QMZAJZnUrtETWhbI', 'pageInfo': {'totalResults': 1, 'resultsPerPage': 5}, 'items': [{'kind': 'youtube#channel', 'etag': 'AEhF68XsRwq7SKo5_4lKgSJTSFc', 'id': 'UCYO_jab_esuFRV4b17AJtAw', 'snippet': {'title': '3Blue1Brown', 'description': 'My name is Grant Sanderson. Videos here cover a variety of topics in math, or adjacent fields like physics and CS, all with an emphasis on visualizing the core ideas. To goal is to use animation to help elucidate and motivate otherwise tricky topics, and for difficult problems to be made simple with changes in perspective.\\n\\nFor more information, other projects, FAQs, and inquiries see the website: https://www.3blue1brown.com', 'customUrl': '@3blue1brown', 'publishedAt': '2015-03-03T23:11:55Z', 'thumbnails': {'default': {'url': 'https://yt3.ggpht.com/ytc/AIf8zZSApZdSBilmxjGARJbX1WdIFYXFv69aixy9FcJraA=s88-c-k-c0x00ffffff-no-rj', 'width': 88, 'height': 88}, 'medium': {'url': 'https://yt3.ggpht.com/ytc/AIf8zZSApZdSBilmxjGARJbX1WdIFYXFv69aixy9FcJraA=s240-c-k-c0x00ffffff-no-rj', 'width': 240, 'height': 240}, 'high': {'url': 'https://yt3.ggpht.com/ytc/AIf8zZSApZdSBilmxjGARJbX1WdIFYXFv69aixy9FcJraA=s800-c-k-c0x00ffffff-no-rj', 'width': 800, 'height': 800}}, 'localized': {'title': '3Blue1Brown', 'description': 'My name is Grant Sanderson. Videos here cover a variety of topics in math, or adjacent fields like physics and CS, all with an emphasis on visualizing the core ideas. To goal is to use animation to help elucidate and motivate otherwise tricky topics, and for difficult problems to be made simple with changes in perspective.\\n\\nFor more information, other projects, FAQs, and inquiries see the website: https://www.3blue1brown.com'}, 'country': 'US'}, 'contentDetails': {'relatedPlaylists': {'likes': '', 'uploads': 'UUYO_jab_esuFRV4b17AJtAw'}}, 'statistics': {'viewCount': '404355901', 'subscriberCount': '5710000', 'hiddenSubscriberCount': False, 'videoCount': '157'}}]}\n"
     ]
    }
   ],
   "source": [
    "api_service_name = \"youtube\"\n",
    "api_version = \"v3\"\n",
    "\n",
    "channel_ids = [\n",
    "    \"UCYO_jab_esuFRV4b17AJtAw\",     # chanel id turn\n",
    "    # Can add more channels\n",
    "]\n",
    "\n",
    "# Get credentials and create an API client\n",
    "\n",
    "youtube = build(\n",
    "    api_service_name, api_version, developerKey=Youtube_API_Key)\n",
    "\n",
    "request = youtube.channels().list(\n",
    "    part=\"snippet,contentDetails,statistics\",\n",
    "    id=\",\".join(channel_ids)\n",
    ")\n",
    "response = request.execute()\n",
    "\n",
    "print(response)"
   ]
  },
  {
   "cell_type": "markdown",
   "metadata": {},
   "source": [
    "https://jsonformatter.org/json-editor\n",
    "\n",
    "#copy respond and do do something "
   ]
  },
  {
   "cell_type": "code",
   "execution_count": 122,
   "metadata": {},
   "outputs": [
    {
     "data": {
      "application/json": {
       "etag": "wt-lcFz9ri-QMZAJZnUrtETWhbI",
       "items": [
        {
         "contentDetails": {
          "relatedPlaylists": {
           "likes": "",
           "uploads": "UUYO_jab_esuFRV4b17AJtAw"
          }
         },
         "etag": "AEhF68XsRwq7SKo5_4lKgSJTSFc",
         "id": "UCYO_jab_esuFRV4b17AJtAw",
         "kind": "youtube#channel",
         "snippet": {
          "country": "US",
          "customUrl": "@3blue1brown",
          "description": "My name is Grant Sanderson. Videos here cover a variety of topics in math, or adjacent fields like physics and CS, all with an emphasis on visualizing the core ideas. To goal is to use animation to help elucidate and motivate otherwise tricky topics, and for difficult problems to be made simple with changes in perspective.\n\nFor more information, other projects, FAQs, and inquiries see the website: https://www.3blue1brown.com",
          "localized": {
           "description": "My name is Grant Sanderson. Videos here cover a variety of topics in math, or adjacent fields like physics and CS, all with an emphasis on visualizing the core ideas. To goal is to use animation to help elucidate and motivate otherwise tricky topics, and for difficult problems to be made simple with changes in perspective.\n\nFor more information, other projects, FAQs, and inquiries see the website: https://www.3blue1brown.com",
           "title": "3Blue1Brown"
          },
          "publishedAt": "2015-03-03T23:11:55Z",
          "thumbnails": {
           "default": {
            "height": 88,
            "url": "https://yt3.ggpht.com/ytc/AIf8zZSApZdSBilmxjGARJbX1WdIFYXFv69aixy9FcJraA=s88-c-k-c0x00ffffff-no-rj",
            "width": 88
           },
           "high": {
            "height": 800,
            "url": "https://yt3.ggpht.com/ytc/AIf8zZSApZdSBilmxjGARJbX1WdIFYXFv69aixy9FcJraA=s800-c-k-c0x00ffffff-no-rj",
            "width": 800
           },
           "medium": {
            "height": 240,
            "url": "https://yt3.ggpht.com/ytc/AIf8zZSApZdSBilmxjGARJbX1WdIFYXFv69aixy9FcJraA=s240-c-k-c0x00ffffff-no-rj",
            "width": 240
           }
          },
          "title": "3Blue1Brown"
         },
         "statistics": {
          "hiddenSubscriberCount": false,
          "subscriberCount": "5710000",
          "videoCount": "157",
          "viewCount": "404355901"
         }
        }
       ],
       "kind": "youtube#channelListResponse",
       "pageInfo": {
        "resultsPerPage": 5,
        "totalResults": 1
       }
      },
      "text/plain": [
       "<IPython.core.display.JSON object>"
      ]
     },
     "execution_count": 122,
     "metadata": {
      "application/json": {
       "expanded": false,
       "root": "root"
      }
     },
     "output_type": "execute_result"
    }
   ],
   "source": [
    "JSON(response)"
   ]
  },
  {
   "cell_type": "markdown",
   "metadata": {},
   "source": [
    "#### Methods Define"
   ]
  },
  {
   "cell_type": "code",
   "execution_count": null,
   "metadata": {},
   "outputs": [],
   "source": [
    "\"\"\" def function_name(parameter1, parameter2...):\n",
    "    do_something\n",
    "    return return_value\n",
    "    \"\"\""
   ]
  },
  {
   "cell_type": "markdown",
   "metadata": {},
   "source": [
    "##### Method 1 : Define Channel Stats"
   ]
  },
  {
   "cell_type": "code",
   "execution_count": 123,
   "metadata": {},
   "outputs": [],
   "source": [
    "def get_channel_stats(youtube, channel_ids):\n",
    "    all_data = []\n",
    "\n",
    "# This request method is defined as below . You can include what you want in part. \n",
    "    # https://developers.google.com/youtube/v3/docs/channels/list#usage you can look detailly.\n",
    "    \n",
    "    request = youtube.channels().list(\n",
    "        part=\"snippet,contentDetails,statistics\",\n",
    "        id=\",\".join(channel_ids)\n",
    "    )\n",
    "\n",
    "    response = request.execute()\n",
    "\n",
    "    # loop through items in response\n",
    "    #json webpage ( https://jsonformatter.org/json-editor) is sooo good to anayze.\n",
    "    for item in response[\"items\"]:\n",
    "        data = {'channelName': item['snippet']['title'],\n",
    "                'subscribers': item['statistics']['subscriberCount'],\n",
    "                'views': item['statistics']['viewCount'],\n",
    "                'totalVideos': item['statistics']['videoCount'],\n",
    "                'playlistId': item['contentDetails']['relatedPlaylists']['uploads']\n",
    "        }\n",
    "        all_data.append(data)\n",
    "    \n",
    "    return pd.DataFrame(all_data)"
   ]
  },
  {
   "cell_type": "code",
   "execution_count": 124,
   "metadata": {},
   "outputs": [],
   "source": [
    "channel_ids = get_channel_stats(youtube, channel_ids)"
   ]
  },
  {
   "cell_type": "code",
   "execution_count": 125,
   "metadata": {},
   "outputs": [
    {
     "data": {
      "text/html": [
       "<div>\n",
       "<style scoped>\n",
       "    .dataframe tbody tr th:only-of-type {\n",
       "        vertical-align: middle;\n",
       "    }\n",
       "\n",
       "    .dataframe tbody tr th {\n",
       "        vertical-align: top;\n",
       "    }\n",
       "\n",
       "    .dataframe thead th {\n",
       "        text-align: right;\n",
       "    }\n",
       "</style>\n",
       "<table border=\"1\" class=\"dataframe\">\n",
       "  <thead>\n",
       "    <tr style=\"text-align: right;\">\n",
       "      <th></th>\n",
       "      <th>channelName</th>\n",
       "      <th>subscribers</th>\n",
       "      <th>views</th>\n",
       "      <th>totalVideos</th>\n",
       "      <th>playlistId</th>\n",
       "    </tr>\n",
       "  </thead>\n",
       "  <tbody>\n",
       "    <tr>\n",
       "      <th>0</th>\n",
       "      <td>3Blue1Brown</td>\n",
       "      <td>5710000</td>\n",
       "      <td>404355901</td>\n",
       "      <td>157</td>\n",
       "      <td>UUYO_jab_esuFRV4b17AJtAw</td>\n",
       "    </tr>\n",
       "  </tbody>\n",
       "</table>\n",
       "</div>"
      ],
      "text/plain": [
       "   channelName subscribers      views totalVideos                playlistId\n",
       "0  3Blue1Brown     5710000  404355901         157  UUYO_jab_esuFRV4b17AJtAw"
      ]
     },
     "execution_count": 125,
     "metadata": {},
     "output_type": "execute_result"
    }
   ],
   "source": [
    "channel_ids"
   ]
  },
  {
   "cell_type": "markdown",
   "metadata": {},
   "source": [
    "## PlayListItems"
   ]
  },
  {
   "cell_type": "markdown",
   "metadata": {},
   "source": [
    "PlaylistItems\n",
    "\n",
    "https://developers.google.com/youtube/v3/docs/playlistItems"
   ]
  },
  {
   "cell_type": "code",
   "execution_count": 126,
   "metadata": {},
   "outputs": [],
   "source": [
    "request = youtube.playlistItems().list(\n",
    "        part=\"snippet,contentDetails\",\n",
    "        playlistId=\"UUYO_jab_esuFRV4b17AJtAw\"\n",
    "    )\n",
    "response = request.execute()"
   ]
  },
  {
   "cell_type": "code",
   "execution_count": 127,
   "metadata": {},
   "outputs": [
    {
     "data": {
      "application/json": {
       "etag": "E6QFTnCwCVWLZnEZBtHsyN3yL6k",
       "items": [
        {
         "contentDetails": {
          "videoId": "tjIOqIr80ns",
          "videoPublishedAt": "2023-12-23T00:00:26Z"
         },
         "etag": "rLHV6d9EI4usyDtIbsjWfqVObSA",
         "id": "VVVZT19qYWJfZXN1RlJWNGIxN0FKdEF3LnRqSU9xSXI4MG5z",
         "kind": "youtube#playlistItem",
         "snippet": {
          "channelId": "UCYO_jab_esuFRV4b17AJtAw",
          "channelTitle": "3Blue1Brown",
          "description": "A link to the full video is at the bottom of the screen.\nOr, for reference: https://youtu.be/VYQVlVoWoPY\n\nThat video gives multiple examples of lying with visual proofs\n\nEditing from the original video into this short by Dawid Kołodziej",
          "playlistId": "UUYO_jab_esuFRV4b17AJtAw",
          "position": 0,
          "publishedAt": "2023-12-23T00:00:26Z",
          "resourceId": {
           "kind": "youtube#video",
           "videoId": "tjIOqIr80ns"
          },
          "thumbnails": {
           "default": {
            "height": 90,
            "url": "https://i.ytimg.com/vi/tjIOqIr80ns/default.jpg",
            "width": 120
           },
           "high": {
            "height": 360,
            "url": "https://i.ytimg.com/vi/tjIOqIr80ns/hqdefault.jpg",
            "width": 480
           },
           "maxres": {
            "height": 720,
            "url": "https://i.ytimg.com/vi/tjIOqIr80ns/maxresdefault.jpg",
            "width": 1280
           },
           "medium": {
            "height": 180,
            "url": "https://i.ytimg.com/vi/tjIOqIr80ns/mqdefault.jpg",
            "width": 320
           },
           "standard": {
            "height": 480,
            "url": "https://i.ytimg.com/vi/tjIOqIr80ns/sddefault.jpg",
            "width": 640
           }
          },
          "title": "The limit of limiting arguments",
          "videoOwnerChannelId": "UCYO_jab_esuFRV4b17AJtAw",
          "videoOwnerChannelTitle": "3Blue1Brown"
         }
        },
        {
         "contentDetails": {
          "videoId": "W1gW1dHRsOw",
          "videoPublishedAt": "2023-12-21T00:15:02Z"
         },
         "etag": "BaziSqCCbNkLFFnBPZpY7hVAt5A",
         "id": "VVVZT19qYWJfZXN1RlJWNGIxN0FKdEF3LlcxZ1cxZEhSc093",
         "kind": "youtube#playlistItem",
         "snippet": {
          "channelId": "UCYO_jab_esuFRV4b17AJtAw",
          "channelTitle": "3Blue1Brown",
          "description": "YouTube disabled links in descriptions and comments, but we can add links to videos on the shorts player itself. For reference, the one at the bottom of this screen is https://youtu.be/KTzGBJPuJwM",
          "playlistId": "UUYO_jab_esuFRV4b17AJtAw",
          "position": 1,
          "publishedAt": "2023-12-21T00:15:02Z",
          "resourceId": {
           "kind": "youtube#video",
           "videoId": "W1gW1dHRsOw"
          },
          "thumbnails": {
           "default": {
            "height": 90,
            "url": "https://i.ytimg.com/vi/W1gW1dHRsOw/default.jpg",
            "width": 120
           },
           "high": {
            "height": 360,
            "url": "https://i.ytimg.com/vi/W1gW1dHRsOw/hqdefault.jpg",
            "width": 480
           },
           "maxres": {
            "height": 720,
            "url": "https://i.ytimg.com/vi/W1gW1dHRsOw/maxresdefault.jpg",
            "width": 1280
           },
           "medium": {
            "height": 180,
            "url": "https://i.ytimg.com/vi/W1gW1dHRsOw/mqdefault.jpg",
            "width": 320
           },
           "standard": {
            "height": 480,
            "url": "https://i.ytimg.com/vi/W1gW1dHRsOw/sddefault.jpg",
            "width": 640
           }
          },
          "title": "For anyone who might not know how links in shorts work",
          "videoOwnerChannelId": "UCYO_jab_esuFRV4b17AJtAw",
          "videoOwnerChannelTitle": "3Blue1Brown"
         }
        },
        {
         "contentDetails": {
          "videoId": "p9i3cYMQtBY",
          "videoPublishedAt": "2023-12-21T00:00:20Z"
         },
         "etag": "ItSif2_m7aHvlhrRwKFwGXi7XaU",
         "id": "VVVZT19qYWJfZXN1RlJWNGIxN0FKdEF3LnA5aTNjWU1RdEJZ",
         "kind": "youtube#playlistItem",
         "snippet": {
          "channelId": "UCYO_jab_esuFRV4b17AJtAw",
          "channelTitle": "3Blue1Brown",
          "description": "A link to the full video is at the bottom of the screen.\nOr, for reference: https://youtu.be/d-o3eB9sfls",
          "playlistId": "UUYO_jab_esuFRV4b17AJtAw",
          "position": 2,
          "publishedAt": "2023-12-21T00:00:20Z",
          "resourceId": {
           "kind": "youtube#video",
           "videoId": "p9i3cYMQtBY"
          },
          "thumbnails": {
           "default": {
            "height": 90,
            "url": "https://i.ytimg.com/vi/p9i3cYMQtBY/default.jpg",
            "width": 120
           },
           "high": {
            "height": 360,
            "url": "https://i.ytimg.com/vi/p9i3cYMQtBY/hqdefault.jpg",
            "width": 480
           },
           "maxres": {
            "height": 720,
            "url": "https://i.ytimg.com/vi/p9i3cYMQtBY/maxresdefault.jpg",
            "width": 1280
           },
           "medium": {
            "height": 180,
            "url": "https://i.ytimg.com/vi/p9i3cYMQtBY/mqdefault.jpg",
            "width": 320
           },
           "standard": {
            "height": 480,
            "url": "https://i.ytimg.com/vi/p9i3cYMQtBY/sddefault.jpg",
            "width": 640
           }
          },
          "title": "Infinite Lighthouses and π",
          "videoOwnerChannelId": "UCYO_jab_esuFRV4b17AJtAw",
          "videoOwnerChannelTitle": "3Blue1Brown"
         }
        },
        {
         "contentDetails": {
          "videoId": "X4jpqCu-wlA",
          "videoPublishedAt": "2023-12-16T00:00:24Z"
         },
         "etag": "aJ_91MWeVC1wY7cDa9GRLBKY0aE",
         "id": "VVVZT19qYWJfZXN1RlJWNGIxN0FKdEF3Llg0anBxQ3Utd2xB",
         "kind": "youtube#playlistItem",
         "snippet": {
          "channelId": "UCYO_jab_esuFRV4b17AJtAw",
          "channelTitle": "3Blue1Brown",
          "description": "Originally written as a supplement to an explanation of the cryptography behind Bitcoin: https://youtu.be/bBC-nXj3Ng4\n(An active link is on the bottom of the video player)",
          "playlistId": "UUYO_jab_esuFRV4b17AJtAw",
          "position": 3,
          "publishedAt": "2023-12-16T00:00:24Z",
          "resourceId": {
           "kind": "youtube#video",
           "videoId": "X4jpqCu-wlA"
          },
          "thumbnails": {
           "default": {
            "height": 90,
            "url": "https://i.ytimg.com/vi/X4jpqCu-wlA/default.jpg",
            "width": 120
           },
           "high": {
            "height": 360,
            "url": "https://i.ytimg.com/vi/X4jpqCu-wlA/hqdefault.jpg",
            "width": 480
           },
           "maxres": {
            "height": 720,
            "url": "https://i.ytimg.com/vi/X4jpqCu-wlA/maxresdefault.jpg",
            "width": 1280
           },
           "medium": {
            "height": 180,
            "url": "https://i.ytimg.com/vi/X4jpqCu-wlA/mqdefault.jpg",
            "width": 320
           },
           "standard": {
            "height": 480,
            "url": "https://i.ytimg.com/vi/X4jpqCu-wlA/sddefault.jpg",
            "width": 640
           }
          },
          "title": "Can you even imagine 2^256?",
          "videoOwnerChannelId": "UCYO_jab_esuFRV4b17AJtAw",
          "videoOwnerChannelTitle": "3Blue1Brown"
         }
        },
        {
         "contentDetails": {
          "videoId": "GOSezO0CHss",
          "videoPublishedAt": "2023-12-15T00:00:13Z"
         },
         "etag": "AU1dhgvYpihpL08T26BlEM-oKyA",
         "id": "VVVZT19qYWJfZXN1RlJWNGIxN0FKdEF3LkdPU2V6TzBDSHNz",
         "kind": "youtube#playlistItem",
         "snippet": {
          "channelId": "UCYO_jab_esuFRV4b17AJtAw",
          "channelTitle": "3Blue1Brown",
          "description": "A link to the full video on the Central Limit Theorem is at the bottom of the screen.\nOr, for reference: https://youtu.be/zeJD6dqJ5lo\n\nThanks to Dawid Kołodziej from long-to-short editing",
          "playlistId": "UUYO_jab_esuFRV4b17AJtAw",
          "position": 4,
          "publishedAt": "2023-12-15T00:00:13Z",
          "resourceId": {
           "kind": "youtube#video",
           "videoId": "GOSezO0CHss"
          },
          "thumbnails": {
           "default": {
            "height": 90,
            "url": "https://i.ytimg.com/vi/GOSezO0CHss/default.jpg",
            "width": 120
           },
           "high": {
            "height": 360,
            "url": "https://i.ytimg.com/vi/GOSezO0CHss/hqdefault.jpg",
            "width": 480
           },
           "maxres": {
            "height": 720,
            "url": "https://i.ytimg.com/vi/GOSezO0CHss/maxresdefault.jpg",
            "width": 1280
           },
           "medium": {
            "height": 180,
            "url": "https://i.ytimg.com/vi/GOSezO0CHss/mqdefault.jpg",
            "width": 320
           },
           "standard": {
            "height": 480,
            "url": "https://i.ytimg.com/vi/GOSezO0CHss/sddefault.jpg",
            "width": 640
           }
          },
          "title": "Order from chaos",
          "videoOwnerChannelId": "UCYO_jab_esuFRV4b17AJtAw",
          "videoOwnerChannelTitle": "3Blue1Brown"
         }
        }
       ],
       "kind": "youtube#playlistItemListResponse",
       "nextPageToken": "EAAafVBUOkNBVWlFRVJFUlRSQ05rUkVNek5FTUVZMU16TW9BVWpBMGFLcG9LU0RBMUFCV2pnaVEyaG9WbFpXYkZCWU1uQm9XV3c1YkdNelZrZFZiRmt3V1dwRk0xRlZjREJSV0dOVFJFRnBZWGh3YVhOQ2FFTkJNVkJMWWtGM0ln",
       "pageInfo": {
        "resultsPerPage": 5,
        "totalResults": 157
       }
      },
      "text/plain": [
       "<IPython.core.display.JSON object>"
      ]
     },
     "execution_count": 127,
     "metadata": {
      "application/json": {
       "expanded": false,
       "root": "root"
      }
     },
     "output_type": "execute_result"
    }
   ],
   "source": [
    "JSON(response)"
   ]
  },
  {
   "cell_type": "markdown",
   "metadata": {},
   "source": [
    "#### Method 2 : Define PlayLisitItems"
   ]
  },
  {
   "cell_type": "code",
   "execution_count": 128,
   "metadata": {},
   "outputs": [],
   "source": [
    "def get_video_ids(youtube, playlist_id):\n",
    "    video_ids = []\n",
    "\n",
    "    request = youtube.playlistItems().list(\n",
    "            part=\"snippet,contentDetails\",\n",
    "            playlistId=playlist_id\n",
    "        )\n",
    "    response = request.execute()\n",
    "\n",
    "    for item in response['items']:\n",
    "        video_ids.append(item['contentDetails']['videoId'])\n",
    "        \n",
    "    return video_ids"
   ]
  },
  {
   "cell_type": "code",
   "execution_count": 129,
   "metadata": {},
   "outputs": [],
   "source": [
    "playlist_id = \"UUYO_jab_esuFRV4b17AJtAw\"\n",
    "\n",
    "video_ids = get_video_ids(youtube, playlist_id)"
   ]
  },
  {
   "cell_type": "code",
   "execution_count": 130,
   "metadata": {},
   "outputs": [
    {
     "data": {
      "text/plain": [
       "['tjIOqIr80ns', 'W1gW1dHRsOw', 'p9i3cYMQtBY', 'X4jpqCu-wlA', 'GOSezO0CHss']"
      ]
     },
     "execution_count": 130,
     "metadata": {},
     "output_type": "execute_result"
    }
   ],
   "source": [
    "video_ids"
   ]
  },
  {
   "cell_type": "code",
   "execution_count": 131,
   "metadata": {},
   "outputs": [],
   "source": [
    "\n",
    "def get_video_ids(youtube, playlist_id):\n",
    "    video_ids = []\n",
    "\n",
    "    request = youtube.playlistItems().list(\n",
    "            part=\"snippet,contentDetails\",\n",
    "            playlistId=playlist_id,\n",
    "            maxResults=50\n",
    "        )\n",
    "    response = request.execute()\n",
    "\n",
    "    for item in response['items']:\n",
    "        video_ids.append(item['contentDetails']['videoId'])\n",
    "\n",
    "    next_page_token = response.get('nextPageToken')\n",
    "    \n",
    "    while next_page_token is not None:\n",
    "        request = youtube.playlistItems().list(\n",
    "                part=\"snippet,contentDetails\",\n",
    "                playlistId=playlist_id,\n",
    "                maxResults=50,\n",
    "                pageToken=next_page_token\n",
    "            )\n",
    "        response = request.execute()\n",
    "\n",
    "        for item in response['items']:\n",
    "            video_ids.append(item['contentDetails']['videoId'])\n",
    "\n",
    "        next_page_token = response.get('nextPageToken')    \n",
    "\n",
    "        \n",
    "    return video_ids"
   ]
  },
  {
   "cell_type": "code",
   "execution_count": 132,
   "metadata": {},
   "outputs": [],
   "source": [
    "playlist_id = \"UUYO_jab_esuFRV4b17AJtAw\"\n",
    "\n",
    "video_ids = get_video_ids(youtube, playlist_id)"
   ]
  },
  {
   "cell_type": "code",
   "execution_count": 133,
   "metadata": {},
   "outputs": [
    {
     "data": {
      "text/plain": [
       "['tjIOqIr80ns',\n",
       " 'W1gW1dHRsOw',\n",
       " 'p9i3cYMQtBY',\n",
       " 'X4jpqCu-wlA',\n",
       " 'GOSezO0CHss',\n",
       " 'JHuxMHPATtg',\n",
       " 'TaopSi3Ucfc',\n",
       " 'BIbHGfdjc_g',\n",
       " '4xWpQe3G9qI',\n",
       " 'VS9yOhwtVDY',\n",
       " 'Cm-zmm0nANo',\n",
       " 'yZMw2rOKYwE',\n",
       " 'NQFIU5Exjuo',\n",
       " 'h2V3r7oBeMI',\n",
       " '31xm81m0iYs',\n",
       " 'nXIHYB0Gp70',\n",
       " '1tLvj_HSjPk',\n",
       " 'GSIuXqgPsnY',\n",
       " 'P11ykXwx4-k',\n",
       " 'VFbyGEZLMZw',\n",
       " 'Cz4Q4QOuoo8',\n",
       " 'KTzGBJPuJwM',\n",
       " '6a1fLEToyvU',\n",
       " 'aXRTczANuIs',\n",
       " 'QCX62YJCmGk',\n",
       " 'd_qvLDhkg00',\n",
       " 'YtkIWDE36qU',\n",
       " 'NOCsdhzo6Jg',\n",
       " 'IaSGqQa5O-M',\n",
       " 'cy8r7WSuT1I',\n",
       " 'zeJD6dqJ5lo',\n",
       " 'KuXjwB4LzSA',\n",
       " '851U557j6HE',\n",
       " 'cDofhN-RJqg',\n",
       " 'VYQVlVoWoPY',\n",
       " 'hZuYICAEN9Y',\n",
       " 'bOXCLR3Wric',\n",
       " 'fRed0Xmc2Wg',\n",
       " 'v68zYyaEmEA',\n",
       " 'ltLUadnCyi0',\n",
       " 'F3Qixy-r_rQ',\n",
       " 'LqbZpur38nw',\n",
       " '-RdOwhmqP5s',\n",
       " 'ojjzXyQCzso',\n",
       " 'e50Bj7jn9IQ',\n",
       " 'O85OWBJ2ayo',\n",
       " 'lG4VkPoG3ko',\n",
       " 'b3NxrZOu_CE',\n",
       " 'X8jsijhllIA',\n",
       " 'mH0oCDa74tE',\n",
       " 'wTJI_WuZSwE',\n",
       " 'QvuQH4_05LI',\n",
       " 'pq9LcwC7CoY',\n",
       " 'D__UaR5MQao',\n",
       " 'elQVZLLiod4',\n",
       " '4PDoT7jtxmw',\n",
       " 'cEvgcoyZvB4',\n",
       " 'IAEASE5GjdI',\n",
       " 'ZxYOEwM6Wbk',\n",
       " '5PcpBw5Hbwo',\n",
       " 'yBw67Fb31Cs',\n",
       " 'MHXO86wKeDY',\n",
       " 'ppWPuXsnf1Q',\n",
       " 'ZA4JkHKZM50',\n",
       " 'gxAaO2rsdIs',\n",
       " '8idr1WZ1A7Q',\n",
       " 'Kas0tIxDvrg',\n",
       " 'U_85TaXbeIo',\n",
       " 'HZGCoVF3YvM',\n",
       " 'Agbh95KyWxY',\n",
       " 'EK32jo7i5LQ',\n",
       " 'M64HUIJFTZM',\n",
       " 'v0YEaeIClKY',\n",
       " '-qgreAUpPwM',\n",
       " 'r6sGWTCMz2k',\n",
       " 'ToIXSwZ1pJU',\n",
       " 'ly4S0oi3Yz8',\n",
       " 'p_di4Zn4wz4',\n",
       " 'jBsC34PxzoM',\n",
       " 'brU5yLm9DZM',\n",
       " 'jsYwFizhncE',\n",
       " 'HEfHFsfGXjs',\n",
       " 'GNcFjFmqEc8',\n",
       " 'yuVqxCSsE7c',\n",
       " '_UoTTq651dE',\n",
       " 'zjMuIxRvygQ',\n",
       " 'd4EgbgTm0Bg',\n",
       " 'Qe6o9j4IjTo',\n",
       " 'pQa_tWZmlGs',\n",
       " 'VcgJro0sTiM',\n",
       " 'rB83DpBJQsE',\n",
       " 'CfW845LNObM',\n",
       " '8GPy_UMV-08',\n",
       " 'b7FxPsqfkOY',\n",
       " 'bcPTiiiYDs8',\n",
       " 'd-o3eB9sfls',\n",
       " 'MBnnXbOM5S4',\n",
       " 'spUNpyF58BY',\n",
       " 'VvCytJvd4H0',\n",
       " 'liL66CApESk',\n",
       " 'OkmNXy7er84',\n",
       " 'tIeHLnjs5U8',\n",
       " 'Ilg3gGewQ5U',\n",
       " 'IHZwWFHWa-w',\n",
       " 'aircAruvnKk',\n",
       " 'MzRCDLre1b4',\n",
       " 'zwAD6dRSVyI',\n",
       " '3s7h2MHQtxc',\n",
       " 'S9JGmA5_unY',\n",
       " 'bBC-nXj3Ng4',\n",
       " 'QJYmyhnaaek',\n",
       " 'NaL_Cb42WyY',\n",
       " '3d6DsjIBzJ4',\n",
       " 'BLkz5LGWihw',\n",
       " 'FnJqaIESC2s',\n",
       " 'rfG8ce4nNh0',\n",
       " 'kfF40MiS7zA',\n",
       " 'qb40J4N1fa4',\n",
       " 'm2MIpDrF7Es',\n",
       " 'YG15m2VwSjA',\n",
       " 'S0_qX4VJhMQ',\n",
       " '9vKqVkMQHKk',\n",
       " 'WUvTyaaNkzM',\n",
       " 'mvmuCPvRoWQ',\n",
       " 'gB9n2gHsHN4',\n",
       " 'IxNb1WG_Ido',\n",
       " 'sD0NjbwqlYw',\n",
       " 'bdMfjfT0lKk',\n",
       " '2SUvWfNJSsM',\n",
       " 'R7p-nPg8t_g',\n",
       " 'AmgkSdhK4K8',\n",
       " 'TgKwz5Ikpc8',\n",
       " 'PFDu9oVAE-g',\n",
       " 'P2LTAUO1TdA',\n",
       " 'BaM7OCEm3G0',\n",
       " 'eu6i7WJeinw',\n",
       " 'LyGKycYT2v0',\n",
       " 'v8VSDg_WQlA',\n",
       " 'uQhTuRlWMxw',\n",
       " 'Ip3X9LOh2dk',\n",
       " 'rHLEWRxRGiM',\n",
       " 'XkY2DOUCWMU',\n",
       " 'kYB8IZa5AuE',\n",
       " 'k7RM-ot2NWY',\n",
       " 'fNk_zzaMoSs',\n",
       " 'kjBOesZCoqc',\n",
       " 'sULa9Lc4pck',\n",
       " 'Cld0p3a43fU',\n",
       " 'Iq1a_KJTWJ8',\n",
       " 'RU0wScIj36o',\n",
       " 'cyW5z-M2yzw',\n",
       " '1SMmc9gQmHQ',\n",
       " 'XFDM1ip5HdU',\n",
       " '-9OUyo8NFZg',\n",
       " '84hEmGHw3J8',\n",
       " 'zLzLxVeqdQg',\n",
       " 'F_0yfvm0UoU']"
      ]
     },
     "execution_count": 133,
     "metadata": {},
     "output_type": "execute_result"
    }
   ],
   "source": [
    "video_ids"
   ]
  },
  {
   "cell_type": "code",
   "execution_count": 134,
   "metadata": {},
   "outputs": [
    {
     "data": {
      "text/plain": [
       "157"
      ]
     },
     "execution_count": 134,
     "metadata": {},
     "output_type": "execute_result"
    }
   ],
   "source": [
    "len(video_ids)"
   ]
  }
 ],
 "metadata": {
  "kernelspec": {
   "display_name": "Python 3",
   "language": "python",
   "name": "python3"
  },
  "language_info": {
   "codemirror_mode": {
    "name": "ipython",
    "version": 3
   },
   "file_extension": ".py",
   "mimetype": "text/x-python",
   "name": "python",
   "nbconvert_exporter": "python",
   "pygments_lexer": "ipython3",
   "version": "3.9.13"
  }
 },
 "nbformat": 4,
 "nbformat_minor": 2
}
