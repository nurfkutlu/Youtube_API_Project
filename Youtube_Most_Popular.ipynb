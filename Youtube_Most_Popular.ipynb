{
 "cells": [
  {
   "cell_type": "code",
   "execution_count": 71,
   "metadata": {},
   "outputs": [],
   "source": [
    "import pandas as pd\n",
    "\n",
    "from googleapiclient.discovery import build\n",
    "from IPython.display import JSON\n",
    "\n",
    "from config import Youtube_API_Key\n",
    "#from api_methods import get_channel_stats, get_video_ids"
   ]
  },
  {
   "cell_type": "code",
   "execution_count": 72,
   "metadata": {},
   "outputs": [],
   "source": [
    "# Get credentials and create an API client\n",
    "api_service_name = \"youtube\"\n",
    "api_version = \"v3\"\n",
    "\n",
    "youtube = build(api_service_name, api_version, developerKey=Youtube_API_Key)"
   ]
  },
  {
   "cell_type": "markdown",
   "metadata": {},
   "source": [
    "Chanel id converter : https://www.streamweasels.com/tools/youtube-channel-id-and-user-id-convertor/"
   ]
  },
  {
   "cell_type": "markdown",
   "metadata": {},
   "source": [
    "Youtube TR Most Popular Videos Analysis"
   ]
  },
  {
   "cell_type": "code",
   "execution_count": 73,
   "metadata": {},
   "outputs": [
    {
     "name": "stdout",
     "output_type": "stream",
     "text": [
      "{'kind': 'youtube#videoListResponse', 'etag': '84HtZATUdZnV6ZEaafzwu5QIFV0', 'items': [{'kind': 'youtube#video', 'etag': 'w-UH9b2TlLniX0TegHQgTM0qu1o', 'id': '5nXRi1dkRps', 'snippet': {'publishedAt': '2023-12-25T19:32:41Z', 'channelId': 'UCvMf-BavX_3YjG-JPrpPqLw', 'title': 'Kızıl Goncalar 2. Bölüm', 'description': 'Kızıl Goncalar 2. Bölüm\\nKızıl Goncalar 1. Bölümü İzlemek İçin Tıklayın: https://youtu.be/kJiPjewTae4\\n\\n25 Aralık 2023 Pazartesi\\n\\nKızıl Goncalar Her Pazartesi FOX\\'ta!\\n\\nLevent ve Meryem’in tanışması birbirine zıt iki dünyanın çarpışmasına sebebiyet verirken, kardeş olduklarını bilmeyen iki kızın, her karşılaşmada yeni bir itişme yaşamasına zemin hazırlar.\\n\\nBörekçide Meryem ve İdris Efendi arasında yaşanan gerilim Sadi Hüdayi ve Hasna’nın hiç beklemediği gelişmelere sebep olur ve tekkenin içinde bomba etkisi yaratır.\\n\\nLevent, Cüneyd’in travmalarına sebep olan geçmişteki sırlarını fark etmeye başlar. Annesi ortadan aniden kaybolan Mira ise, hatalarına bir yenisini ekler. Zeynep’in küçük yaşta evlendirileceğini öğrenen Levent ise, Meryem’i geri dönülemez bir yola sokacaktır.\\n\\nKızıl Goncalar, seküler bir Atatürkçü olan Levent (Özcan Deniz) ve mutaassıp bir tarikatın içinde yaşayan Meryem’in (Özgü Namal) kaderlerinin kesişmesini konu alırken, inanç ve fikir ayrılıklarına rağmen \"evlat\" söz konusu olduğunda anneliğin/babalığın birleştirici gücüne dikkat çekiyor.\\n\\nTÜR: Drama \\nYAPIM ŞİRKETİ: Gold Film\\nYAPIMCI: Faruk Turgut\\nGENEL KOORDİNATÖR: Ahsen Tüzün Baltepe\\nYÖNETMEN: Ömür Atay\\nSENARYO: Şükrü Necati Şahin\\n\\nFOX Resmi Web Sitesi: https://www.fox.com.tr/\\nKızıl Goncalar Resmi Web Sitesi: https://www.fox.com.tr/Kizil-Goncalar/izle\\nKızıl Goncalar Resmi Facebook Hesabı: https://www.facebook.com/kizilgoncalardizi/\\nKızıl Goncalar İnstagram Hesabı: https://instagram.com/dizikizilgoncalar?igshid=OGQ5ZDc2ODk2ZA==\\nKızıl Goncalar X Hesabı: https://twitter.com/Kizil_goncalar\\n\\n#FOX #KızılGoncalar #ÖzcanDeniz #ÖzgüNamal #MertYazıcıoğlu', 'thumbnails': {'default': {'url': 'https://i.ytimg.com/vi/5nXRi1dkRps/default.jpg', 'width': 120, 'height': 90}, 'medium': {'url': 'https://i.ytimg.com/vi/5nXRi1dkRps/mqdefault.jpg', 'width': 320, 'height': 180}, 'high': {'url': 'https://i.ytimg.com/vi/5nXRi1dkRps/hqdefault.jpg', 'width': 480, 'height': 360}, 'standard': {'url': 'https://i.ytimg.com/vi/5nXRi1dkRps/sddefault.jpg', 'width': 640, 'height': 480}, 'maxres': {'url': 'https://i.ytimg.com/vi/5nXRi1dkRps/maxresdefault.jpg', 'width': 1280, 'height': 720}}, 'channelTitle': 'Kızıl Goncalar', 'tags': ['FOX', 'FOX Yeni Dizi', 'FOX Kızıl Goncalar', 'Gold Yapım', 'Kızıl Goncalar', 'Kızıl Goncalar Yeni Dizi', 'Özgü Namal', 'Özcan Deniz', 'Özgü Namal Kızıl Goncalar', 'Özcan Deniz Kızıl Goncalar', 'Özgü Namal Yeni Dizi', 'Özcan Deniz Yeni Dizi', 'Özgü Namal Dizileri', 'Özcan Deniz Dizileri', 'Kızıl Goncalar 2. Bölüm', 'Kızıl Goncalr ilk bölüm', 'Kızıl Goncalar 25 Aralık 2023 Pazartesi', 'Kızıl Goncalar 2. bölüm izle', 'Kızıl Goncalar ilk bölüm izle', 'Kızıl Goncalar 2. Bölüm full izle', 'Kızıl Goncalar full izle'], 'categoryId': '24', 'liveBroadcastContent': 'none', 'defaultLanguage': 'tr', 'localized': {'title': 'Kızıl Goncalar 2. Bölüm', 'description': 'Kızıl Goncalar 2. Bölüm\\nKızıl Goncalar 1. Bölümü İzlemek İçin Tıklayın: https://youtu.be/kJiPjewTae4\\n\\n25 Aralık 2023 Pazartesi\\n\\nKızıl Goncalar Her Pazartesi FOX\\'ta!\\n\\nLevent ve Meryem’in tanışması birbirine zıt iki dünyanın çarpışmasına sebebiyet verirken, kardeş olduklarını bilmeyen iki kızın, her karşılaşmada yeni bir itişme yaşamasına zemin hazırlar.\\n\\nBörekçide Meryem ve İdris Efendi arasında yaşanan gerilim Sadi Hüdayi ve Hasna’nın hiç beklemediği gelişmelere sebep olur ve tekkenin içinde bomba etkisi yaratır.\\n\\nLevent, Cüneyd’in travmalarına sebep olan geçmişteki sırlarını fark etmeye başlar. Annesi ortadan aniden kaybolan Mira ise, hatalarına bir yenisini ekler. Zeynep’in küçük yaşta evlendirileceğini öğrenen Levent ise, Meryem’i geri dönülemez bir yola sokacaktır.\\n\\nKızıl Goncalar, seküler bir Atatürkçü olan Levent (Özcan Deniz) ve mutaassıp bir tarikatın içinde yaşayan Meryem’in (Özgü Namal) kaderlerinin kesişmesini konu alırken, inanç ve fikir ayrılıklarına rağmen \"evlat\" söz konusu olduğunda anneliğin/babalığın birleştirici gücüne dikkat çekiyor.\\n\\nTÜR: Drama \\nYAPIM ŞİRKETİ: Gold Film\\nYAPIMCI: Faruk Turgut\\nGENEL KOORDİNATÖR: Ahsen Tüzün Baltepe\\nYÖNETMEN: Ömür Atay\\nSENARYO: Şükrü Necati Şahin\\n\\nFOX Resmi Web Sitesi: https://www.fox.com.tr/\\nKızıl Goncalar Resmi Web Sitesi: https://www.fox.com.tr/Kizil-Goncalar/izle\\nKızıl Goncalar Resmi Facebook Hesabı: https://www.facebook.com/kizilgoncalardizi/\\nKızıl Goncalar İnstagram Hesabı: https://instagram.com/dizikizilgoncalar?igshid=OGQ5ZDc2ODk2ZA==\\nKızıl Goncalar X Hesabı: https://twitter.com/Kizil_goncalar\\n\\n#FOX #KızılGoncalar #ÖzcanDeniz #ÖzgüNamal #MertYazıcıoğlu'}, 'defaultAudioLanguage': 'tr'}, 'contentDetails': {'duration': 'PT2H4M12S', 'dimension': '2d', 'definition': 'hd', 'caption': 'false', 'licensedContent': True, 'contentRating': {}, 'projection': 'rectangular'}, 'statistics': {'viewCount': '1627983', 'likeCount': '24880', 'favoriteCount': '0', 'commentCount': '3616'}}, {'kind': 'youtube#video', 'etag': 'NRQpbtbajlgxxDMbNmKvxgsIpLc', 'id': 'aysE7ClWANA', 'snippet': {'publishedAt': '2023-12-25T16:07:54Z', 'channelId': 'UChE38WMhQs2YCv9IueqkhPg', 'title': 'Hudutsuz Sevda 14. Bölüm 1. Fragmanı | Seninle Her Günümü Dolu Dolu Yaşayacağım', 'description': \"Hudutsuz Sevda 14. Bölüm 1. Fragmanı | Seninle Her Günümü Dolu Dolu Yaşayacağım\\nHudutsuz Sevda 13. Bölüm Sahnelerini İzlemek İçin: https://www.youtube.com/playlist?list=PLkAJZR6yRPI3Exr9-QzPAbiuDbyCX3Z8p\\n(21 Aralık 2023)\\n\\nHudutsuz Sevda Her Perşembe 20.00'de FOX'ta!\\n\\nHalil İbrahim kaçırılınca Zeynep onun hayatını kurtarabilmek için Asiye ile uzlaşmak ister fakat onun Halil İbrahim için yaptığı fedakarlıkları kendi ailesinin onun için yapmayacağıyla yüzleşir. Yılmaz’a boyun eğmeyen Fikret, kendi yolunu çizmek için yeni ortaklıklar kurar. Yılmaz’ın esiri olan Halil İbrahim ise tutsaklığından kurtarılana kadar hayatta kalmayı başarabilecek midir?\\n\\nKüçük bir çocukken kan davası nedeniyle babasını kaybedip İstanbul’a sürülen Halil İbrahim, (Deniz Can Aktaş), 20 yıl sonra memleketi Karadeniz’e yakışıklı, güçlü bir delikanlı olarak geri döner. Burada sevdiği kız Yasemin (Biran Damla Yılmaz) ile evlenecek ve yeni hayatını kuracaktır. Fakat yaşananlar buna izin vermez. Bir intikam yolculuğuna çıkan Halil İbrahim’in hayatı Leto’lardan Zeynep’in (Miray Daner) çıkması ile tamamen değişecektir.\\n\\nOyuncular: Miray Daner, Deniz Can Aktaş, Esra Dermancıoğlu, Mesut Akusta, Hülya Şen, Burak Sevinç, Özgür Emre Yıldırım, Emre Bulut, Haydar Şişman.\\n\\nTÜR: DRAM\\nYAPIM ŞİRKETİ: MEDYAPIM\\nYAPIMCI: FATİH AKSOY\\nYÖNETMEN: MURAT ÖZTÜRK\\nSENARYO: BAHADIR ÖZDENER\\n\\nResmi YouTube Kanalına Abone Ol: https://www.youtube.com/@HudutsuzSevdaDizi?sub_confirmation=1\\nResmi Facebook Sayfası: https://www.facebook.com/hudutsuzsevdadizisi/\\nResmi İnstagram Sayfası: https://instagram.com/hudutsuzsevdadizi?igshid=MzRlODBiNWFlZA==\\nResmi Twitter Sayfası: https://twitter.com/hudutsuzsevda_\\n\\n#Medyapım #FOX #HudutsuzSevda #MirayDaner #DenizCanAktaş\", 'thumbnails': {'default': {'url': 'https://i.ytimg.com/vi/aysE7ClWANA/default.jpg', 'width': 120, 'height': 90}, 'medium': {'url': 'https://i.ytimg.com/vi/aysE7ClWANA/mqdefault.jpg', 'width': 320, 'height': 180}, 'high': {'url': 'https://i.ytimg.com/vi/aysE7ClWANA/hqdefault.jpg', 'width': 480, 'height': 360}, 'standard': {'url': 'https://i.ytimg.com/vi/aysE7ClWANA/sddefault.jpg', 'width': 640, 'height': 480}, 'maxres': {'url': 'https://i.ytimg.com/vi/aysE7ClWANA/maxresdefault.jpg', 'width': 1280, 'height': 720}}, 'channelTitle': 'Hudutsuz Sevda', 'tags': ['FOX', 'Medyapım', 'fox yeni dizi', 'fox hudutsuz sevda', 'hudutsuz sevda dizisi', 'Miray Daner', 'Deniz Can Aktaş', 'Esra Dermancıoğlu', 'Mesut Akusta', 'Hülya Şen', 'Burak Sevinç', 'Özgür Emre Yıldırım', 'Emre Bulut', 'Haydar Şişman', 'miray daner yeni dizi', 'miray daner ve halit can aktaş', 'miray daner hudutsuz sevda', 'Hudutsuz Sevda 13. Bölüm', 'Hudutsuz Sevda 14. Bölüm 1. Fragmanı | Seninle Her Günümü Dolu Dolu Yaşayacağım', 'Hudutsuz Sevda 14. Bölüm 1. Fragmanı', 'Hudutsuz Sevda 14. Bölüm'], 'categoryId': '24', 'liveBroadcastContent': 'none', 'defaultLanguage': 'tr', 'localized': {'title': 'Hudutsuz Sevda 14. Bölüm 1. Fragmanı | Seninle Her Günümü Dolu Dolu Yaşayacağım', 'description': \"Hudutsuz Sevda 14. Bölüm 1. Fragmanı | Seninle Her Günümü Dolu Dolu Yaşayacağım\\nHudutsuz Sevda 13. Bölüm Sahnelerini İzlemek İçin: https://www.youtube.com/playlist?list=PLkAJZR6yRPI3Exr9-QzPAbiuDbyCX3Z8p\\n(21 Aralık 2023)\\n\\nHudutsuz Sevda Her Perşembe 20.00'de FOX'ta!\\n\\nHalil İbrahim kaçırılınca Zeynep onun hayatını kurtarabilmek için Asiye ile uzlaşmak ister fakat onun Halil İbrahim için yaptığı fedakarlıkları kendi ailesinin onun için yapmayacağıyla yüzleşir. Yılmaz’a boyun eğmeyen Fikret, kendi yolunu çizmek için yeni ortaklıklar kurar. Yılmaz’ın esiri olan Halil İbrahim ise tutsaklığından kurtarılana kadar hayatta kalmayı başarabilecek midir?\\n\\nKüçük bir çocukken kan davası nedeniyle babasını kaybedip İstanbul’a sürülen Halil İbrahim, (Deniz Can Aktaş), 20 yıl sonra memleketi Karadeniz’e yakışıklı, güçlü bir delikanlı olarak geri döner. Burada sevdiği kız Yasemin (Biran Damla Yılmaz) ile evlenecek ve yeni hayatını kuracaktır. Fakat yaşananlar buna izin vermez. Bir intikam yolculuğuna çıkan Halil İbrahim’in hayatı Leto’lardan Zeynep’in (Miray Daner) çıkması ile tamamen değişecektir.\\n\\nOyuncular: Miray Daner, Deniz Can Aktaş, Esra Dermancıoğlu, Mesut Akusta, Hülya Şen, Burak Sevinç, Özgür Emre Yıldırım, Emre Bulut, Haydar Şişman.\\n\\nTÜR: DRAM\\nYAPIM ŞİRKETİ: MEDYAPIM\\nYAPIMCI: FATİH AKSOY\\nYÖNETMEN: MURAT ÖZTÜRK\\nSENARYO: BAHADIR ÖZDENER\\n\\nResmi YouTube Kanalına Abone Ol: https://www.youtube.com/@HudutsuzSevdaDizi?sub_confirmation=1\\nResmi Facebook Sayfası: https://www.facebook.com/hudutsuzsevdadizisi/\\nResmi İnstagram Sayfası: https://instagram.com/hudutsuzsevdadizi?igshid=MzRlODBiNWFlZA==\\nResmi Twitter Sayfası: https://twitter.com/hudutsuzsevda_\\n\\n#Medyapım #FOX #HudutsuzSevda #MirayDaner #DenizCanAktaş\"}, 'defaultAudioLanguage': 'tr'}, 'contentDetails': {'duration': 'PT42S', 'dimension': '2d', 'definition': 'hd', 'caption': 'false', 'licensedContent': True, 'contentRating': {}, 'projection': 'rectangular'}, 'statistics': {'viewCount': '1214865', 'likeCount': '26806', 'favoriteCount': '0', 'commentCount': '1317'}}, {'kind': 'youtube#video', 'etag': 'cS4wY-q_FmWDic-sBdMvxDfTU_Q', 'id': 'WCkfdVI9ZPU', 'snippet': {'publishedAt': '2023-12-22T16:47:21Z', 'channelId': 'UCoBVlp7YLhUS57ZCkbgphoA', 'title': 'Z Kuşağı Mahkemesi 2', 'description': '', 'thumbnails': {'default': {'url': 'https://i.ytimg.com/vi/WCkfdVI9ZPU/default.jpg', 'width': 120, 'height': 90}, 'medium': {'url': 'https://i.ytimg.com/vi/WCkfdVI9ZPU/mqdefault.jpg', 'width': 320, 'height': 180}, 'high': {'url': 'https://i.ytimg.com/vi/WCkfdVI9ZPU/hqdefault.jpg', 'width': 480, 'height': 360}, 'standard': {'url': 'https://i.ytimg.com/vi/WCkfdVI9ZPU/sddefault.jpg', 'width': 640, 'height': 480}, 'maxres': {'url': 'https://i.ytimg.com/vi/WCkfdVI9ZPU/maxresdefault.jpg', 'width': 1280, 'height': 720}}, 'channelTitle': 'uberkuloz', 'categoryId': '24', 'liveBroadcastContent': 'none', 'localized': {'title': 'Z Kuşağı Mahkemesi 2', 'description': ''}, 'defaultAudioLanguage': 'tr'}, 'contentDetails': {'duration': 'PT58S', 'dimension': '2d', 'definition': 'hd', 'caption': 'false', 'licensedContent': True, 'contentRating': {}, 'projection': 'rectangular'}, 'statistics': {'viewCount': '3036953', 'likeCount': '225320', 'favoriteCount': '0', 'commentCount': '902'}}, {'kind': 'youtube#video', 'etag': 'z_UStTSI29gKv2YUVaffbNNAAbc', 'id': 'om24h4ZocS8', 'snippet': {'publishedAt': '2023-12-25T15:12:32Z', 'channelId': 'UCAUDXM2wXU68H_e1H9bYtpg', 'title': 'Osman Kalyoncu Telefonu Yaktık we burned the phone #shorts', 'description': '', 'thumbnails': {'default': {'url': 'https://i.ytimg.com/vi/om24h4ZocS8/default.jpg', 'width': 120, 'height': 90}, 'medium': {'url': 'https://i.ytimg.com/vi/om24h4ZocS8/mqdefault.jpg', 'width': 320, 'height': 180}, 'high': {'url': 'https://i.ytimg.com/vi/om24h4ZocS8/hqdefault.jpg', 'width': 480, 'height': 360}, 'standard': {'url': 'https://i.ytimg.com/vi/om24h4ZocS8/sddefault.jpg', 'width': 640, 'height': 480}, 'maxres': {'url': 'https://i.ytimg.com/vi/om24h4ZocS8/maxresdefault.jpg', 'width': 1280, 'height': 720}}, 'channelTitle': 'Osman Kalyoncu', 'categoryId': '27', 'liveBroadcastContent': 'none', 'localized': {'title': 'Osman Kalyoncu Telefonu Yaktık we burned the phone #shorts', 'description': ''}}, 'contentDetails': {'duration': 'PT20S', 'dimension': '2d', 'definition': 'hd', 'caption': 'false', 'licensedContent': True, 'contentRating': {}, 'projection': 'rectangular'}, 'statistics': {'viewCount': '473961', 'likeCount': '8115', 'favoriteCount': '0', 'commentCount': '56'}}, {'kind': 'youtube#video', 'etag': 'eGDEqNVeB1vsXkzCmcLeHtFBC8U', 'id': 'i29Ch25se2A', 'snippet': {'publishedAt': '2023-12-25T14:19:55Z', 'channelId': 'UC5VfcMtimzCTxWZkpkaTQOA', 'title': 'Hoşgelmedin 2024 Yılbaşı Partisi', 'description': '', 'thumbnails': {'default': {'url': 'https://i.ytimg.com/vi/i29Ch25se2A/default.jpg', 'width': 120, 'height': 90}, 'medium': {'url': 'https://i.ytimg.com/vi/i29Ch25se2A/mqdefault.jpg', 'width': 320, 'height': 180}, 'high': {'url': 'https://i.ytimg.com/vi/i29Ch25se2A/hqdefault.jpg', 'width': 480, 'height': 360}, 'standard': {'url': 'https://i.ytimg.com/vi/i29Ch25se2A/sddefault.jpg', 'width': 640, 'height': 480}, 'maxres': {'url': 'https://i.ytimg.com/vi/i29Ch25se2A/maxresdefault.jpg', 'width': 1280, 'height': 720}}, 'channelTitle': 'Halil İbrahim Göker', 'categoryId': '24', 'liveBroadcastContent': 'none', 'defaultLanguage': 'tr', 'localized': {'title': 'Hoşgelmedin 2024 Yılbaşı Partisi', 'description': ''}, 'defaultAudioLanguage': 'tr'}, 'contentDetails': {'duration': 'PT1M1S', 'dimension': '2d', 'definition': 'hd', 'caption': 'false', 'licensedContent': True, 'contentRating': {}, 'projection': 'rectangular'}, 'statistics': {'viewCount': '360587', 'likeCount': '23234', 'favoriteCount': '0', 'commentCount': '156'}}, {'kind': 'youtube#video', 'etag': '38D--EXHma63xknMMrb-r68SCB0', 'id': 'WZCgW_oDL1M', 'snippet': {'publishedAt': '2023-12-25T11:45:24Z', 'channelId': 'UC0XZpoAPTm_1UJvFQiVg_hg', 'title': 'Müge Anlı ile Tatlı Sert | 25 Aralık 2023 Pazartesi', 'description': \"Müge Anlı ile Tatlı Sert 25 Aralık 2023 | Sahneler 👇\\nhttps://www.youtube.com/playlist?list=PLFkkEhr_4KKT27lb3P1Ehuyim2VfEVIrX\\n\\nMüge Anlı ile Tatlı Sert  YouTube Kanalına Abone Ol → http://atv.link/mgeanl\\nInstagram Hesabı: https://www.instagram.com/mugeanliatv/\\nFacebook Hesabı: https://www.facebook.com/MugeAnliSayfasi\\nTwitter Hesabı: https://twitter.com/Mugeanliatvde\\n\\nMüge Anlı ile Tatlı Sert hafta içi her gün saat 10.00'da atv'de!\\n\\nFaili meçhul olaylar ve kayıpların yanı sıra birçok sosyal sorumluluk projesi ile de adından sıkça söz ettiren, Hafta içi her gün seyirciyi ekran başına kilitleyen Müge Anlı ve ekibi, üzerinde çalıştığı kayıp dosyalarını, cinayete kurban giden kişileri ve kayıpların tüm yaşamını ortaya çıkararak onları bulmaya, olayları aydınlatmaya devam ediyor...\\n\\nNevrigül Alan ve Nazmiye Tutaner dosyasında neler yaşandı? 👇\\nhttps://www.youtube.com/playlist?list=PLFkkEhr_4KKTpmnXpZ8Mmi-ZsjfVXp9LM\\nSevgi Demirci ve 4 kişinin öldürüldüğü cinayette neler yaşandı? 👇\\nhttps://www.youtube.com/playlist?list=PLFkkEhr_4KKQZUtpN6IQCv_2ZR8E1tz2-\\nArife Gökçe - Sinan Sardoğan olayında tüm gelişmeler 👇\\nhttps://www.youtube.com/playlist?list=PLFkkEhr_4KKQTXS3u27dng8mW9msXYCEA\\nPalu Ailesi Olayında Neler Yaşandı?: https://bit.ly/2Ltvi0I\\nFatma Demir Olayında Neler Yaşandı?: https://bit.ly/33R0Ow1\\nEcrin Kurnaz Olayında Neler Yaşandı?: https://bit.ly/33RLKy7\\nLeyla Aydemir Olayında Neler Yaşandı?: https://bit.ly/2OSr1pR\\n\\n#atv #MügeAnlı #MügeAnlıİleTatlıSert\", 'thumbnails': {'default': {'url': 'https://i.ytimg.com/vi/WZCgW_oDL1M/default.jpg', 'width': 120, 'height': 90}, 'medium': {'url': 'https://i.ytimg.com/vi/WZCgW_oDL1M/mqdefault.jpg', 'width': 320, 'height': 180}, 'high': {'url': 'https://i.ytimg.com/vi/WZCgW_oDL1M/hqdefault.jpg', 'width': 480, 'height': 360}, 'standard': {'url': 'https://i.ytimg.com/vi/WZCgW_oDL1M/sddefault.jpg', 'width': 640, 'height': 480}, 'maxres': {'url': 'https://i.ytimg.com/vi/WZCgW_oDL1M/maxresdefault.jpg', 'width': 1280, 'height': 720}}, 'channelTitle': 'Müge Anlı ile Tatlı Sert', 'tags': ['Müge Anlı atv izle', 'atv', 'dizi', 'televizyon izle', 'müge anlı', 'müge anlı izle', 'müge anlı ile tatlı sert', 'müge anlı canlı', 'müge anlı atv', 'atv müge anlı', 'müge anlı son dakika haberleri', 'müge anlı programı', 'müge anlı son dakika', 'müge anlı yeni sezon', 'muge anlida bugun', 'bedriye kılıç', 'nevrigül alan', 'nazmiye tutuklandı', 'tayfur tutuklandı', 'derya yalçınkaya', 'selim yalçınkaya', 'nevrigül nazmiye', 'Müge Anlı ile Tatlı Sert 25 Aralık 2023', 'isa mustafa', 'mustafa hakkulu', 'isa itiraf'], 'categoryId': '24', 'liveBroadcastContent': 'none', 'localized': {'title': 'Müge Anlı ile Tatlı Sert | 25 Aralık 2023 Pazartesi', 'description': \"Müge Anlı ile Tatlı Sert 25 Aralık 2023 | Sahneler 👇\\nhttps://www.youtube.com/playlist?list=PLFkkEhr_4KKT27lb3P1Ehuyim2VfEVIrX\\n\\nMüge Anlı ile Tatlı Sert  YouTube Kanalına Abone Ol → http://atv.link/mgeanl\\nInstagram Hesabı: https://www.instagram.com/mugeanliatv/\\nFacebook Hesabı: https://www.facebook.com/MugeAnliSayfasi\\nTwitter Hesabı: https://twitter.com/Mugeanliatvde\\n\\nMüge Anlı ile Tatlı Sert hafta içi her gün saat 10.00'da atv'de!\\n\\nFaili meçhul olaylar ve kayıpların yanı sıra birçok sosyal sorumluluk projesi ile de adından sıkça söz ettiren, Hafta içi her gün seyirciyi ekran başına kilitleyen Müge Anlı ve ekibi, üzerinde çalıştığı kayıp dosyalarını, cinayete kurban giden kişileri ve kayıpların tüm yaşamını ortaya çıkararak onları bulmaya, olayları aydınlatmaya devam ediyor...\\n\\nNevrigül Alan ve Nazmiye Tutaner dosyasında neler yaşandı? 👇\\nhttps://www.youtube.com/playlist?list=PLFkkEhr_4KKTpmnXpZ8Mmi-ZsjfVXp9LM\\nSevgi Demirci ve 4 kişinin öldürüldüğü cinayette neler yaşandı? 👇\\nhttps://www.youtube.com/playlist?list=PLFkkEhr_4KKQZUtpN6IQCv_2ZR8E1tz2-\\nArife Gökçe - Sinan Sardoğan olayında tüm gelişmeler 👇\\nhttps://www.youtube.com/playlist?list=PLFkkEhr_4KKQTXS3u27dng8mW9msXYCEA\\nPalu Ailesi Olayında Neler Yaşandı?: https://bit.ly/2Ltvi0I\\nFatma Demir Olayında Neler Yaşandı?: https://bit.ly/33R0Ow1\\nEcrin Kurnaz Olayında Neler Yaşandı?: https://bit.ly/33RLKy7\\nLeyla Aydemir Olayında Neler Yaşandı?: https://bit.ly/2OSr1pR\\n\\n#atv #MügeAnlı #MügeAnlıİleTatlıSert\"}, 'defaultAudioLanguage': 'tr'}, 'contentDetails': {'duration': 'PT2H13M43S', 'dimension': '2d', 'definition': 'hd', 'caption': 'false', 'licensedContent': True, 'regionRestriction': {'blocked': ['AD', 'AF', 'AG', 'AL', 'AM', 'AO', 'BB', 'BF', 'BI', 'BJ', 'BN', 'BS', 'BT', 'BW', 'BZ', 'CD', 'CF', 'CK', 'CM', 'CN', 'CU', 'CV', 'DJ', 'DM', 'ER', 'ET', 'FJ', 'FM', 'GA', 'GD', 'GM', 'GN', 'GQ', 'GW', 'GY', 'HT', 'IR', 'KG', 'KI', 'KM', 'KN', 'LC', 'LR', 'LS', 'MC', 'MD', 'MG', 'MH', 'ML', 'MM', 'MN', 'MO', 'MR', 'MU', 'MV', 'MW', 'MZ', 'NA', 'NE', 'NR', 'NU', 'PS', 'PW', 'RU', 'RW', 'SB', 'SC', 'SD', 'SL', 'SO', 'SR', 'SS', 'ST', 'SZ', 'TD', 'TG', 'TJ', 'TL', 'TM', 'TO', 'TT', 'TV', 'UZ', 'VC', 'VU', 'WS', 'ZM']}, 'contentRating': {}, 'projection': 'rectangular'}, 'statistics': {'viewCount': '1224459', 'favoriteCount': '0', 'commentCount': '0'}}, {'kind': 'youtube#video', 'etag': 'BSnm21FqY03aPl-_6GZ1zDuPDhw', 'id': 'uWuH7S6EWj0', 'snippet': {'publishedAt': '2023-12-24T16:27:06Z', 'channelId': 'UCqOwcxgDCjnHNgMt9A3Ua8w', 'title': 'Merry Christmas🤶🏼 Who did it best? 😈', 'description': '', 'thumbnails': {'default': {'url': 'https://i.ytimg.com/vi/uWuH7S6EWj0/default.jpg', 'width': 120, 'height': 90}, 'medium': {'url': 'https://i.ytimg.com/vi/uWuH7S6EWj0/mqdefault.jpg', 'width': 320, 'height': 180}, 'high': {'url': 'https://i.ytimg.com/vi/uWuH7S6EWj0/hqdefault.jpg', 'width': 480, 'height': 360}, 'standard': {'url': 'https://i.ytimg.com/vi/uWuH7S6EWj0/sddefault.jpg', 'width': 640, 'height': 480}, 'maxres': {'url': 'https://i.ytimg.com/vi/uWuH7S6EWj0/maxresdefault.jpg', 'width': 1280, 'height': 720}}, 'channelTitle': 'Diana Belitskay', 'categoryId': '22', 'liveBroadcastContent': 'none', 'localized': {'title': 'Merry Christmas🤶🏼 Who did it best? 😈', 'description': ''}}, 'contentDetails': {'duration': 'PT12S', 'dimension': '2d', 'definition': 'hd', 'caption': 'false', 'licensedContent': True, 'contentRating': {}, 'projection': 'rectangular'}, 'statistics': {'viewCount': '5364490', 'likeCount': '139595', 'favoriteCount': '0', 'commentCount': '1012'}}, {'kind': 'youtube#video', 'etag': '8Gm5ZHbPIcgJWLOURzBQLORbGag', 'id': 'hyHLFdErMPM', 'snippet': {'publishedAt': '2023-12-24T19:24:35Z', 'channelId': 'UCeCRRixprpBjNmzRWgLBiUA', 'title': 'Fenerbahçe - Galatasaray Maç Sonu | Önder Özen, Serdar Ali, Uğur Karakullukçu, Onur Tuğrul | Nakavt', 'description': \"GetirYemek'ten sipariş vermek için 👉 https://getir.com/yemek/\\n\\nYeni Renault Austral👉🏻 https://www.renault.com.tr/hybrid-araclar/yeni-renault-austral.html\\n\\nTuttur'da 23.59'a kadar oynayacağın ilk kuponuna 250 TL'ye kadar bonus Tuttur'dan!\\nhttps://bit.ly/46IYGqA\\n\\nVOLE’nin Canlı Skor uygulaması SPORTZ, test sürümüyle yayında!👉🏻 https://onelink.to/sportz\\n\\nVOLE+'a abone olmak için👉 https://www.youtube.com/@voleplus\\n\\nÖnder Özen, Serdar Ali Çelikler, Uğur Karakullukçu, Onur Tuğrul; GetirYemek'in sunduğu Nakavt programında Fenerbahçe - Galatasaray maç sonunu değerlendiriyor. \\n\\n#VOLE #Nakavt #GetirYemek #Fenerbahçe #Galatasaray #Derbi #SüperLig #SerdarAliÇelikler #ÖnderÖzen #UğurKarakullukçu #OnurTuğrul\", 'thumbnails': {'default': {'url': 'https://i.ytimg.com/vi/hyHLFdErMPM/default.jpg', 'width': 120, 'height': 90}, 'medium': {'url': 'https://i.ytimg.com/vi/hyHLFdErMPM/mqdefault.jpg', 'width': 320, 'height': 180}, 'high': {'url': 'https://i.ytimg.com/vi/hyHLFdErMPM/hqdefault.jpg', 'width': 480, 'height': 360}, 'standard': {'url': 'https://i.ytimg.com/vi/hyHLFdErMPM/sddefault.jpg', 'width': 640, 'height': 480}, 'maxres': {'url': 'https://i.ytimg.com/vi/hyHLFdErMPM/maxresdefault.jpg', 'width': 1280, 'height': 720}}, 'channelTitle': 'VOLE', 'tags': ['vole', 'vole app', 'vole uygulaması', 'fenerbahçe', 'fenerbahçe galatasaray', 'galatasaray', 'derbi', 'fenerbahçe galatasaray derbi', 'vole derbi', 'vole fenerbahçe', 'vole galatasaray', 'serdar ali çelikler', 'serdar ali çelikler vole', 'serdar ali çelikler fenerbahçe', 'serdar ali çelikler yorumları', 'önder özen', 'önder özen vole', 'önder özen fenerbahçe', 'önder özen yorumları', 'uğur karakullukçu', 'uğur karakullukçu vole', 'uğur karakullukçu yorumları', 'uğur karakullukçu galatasaray', 'onur tuğrul', 'onur tuğrul vole'], 'categoryId': '17', 'liveBroadcastContent': 'none', 'localized': {'title': 'Fenerbahçe - Galatasaray Maç Sonu | Önder Özen, Serdar Ali, Uğur Karakullukçu, Onur Tuğrul | Nakavt', 'description': \"GetirYemek'ten sipariş vermek için 👉 https://getir.com/yemek/\\n\\nYeni Renault Austral👉🏻 https://www.renault.com.tr/hybrid-araclar/yeni-renault-austral.html\\n\\nTuttur'da 23.59'a kadar oynayacağın ilk kuponuna 250 TL'ye kadar bonus Tuttur'dan!\\nhttps://bit.ly/46IYGqA\\n\\nVOLE’nin Canlı Skor uygulaması SPORTZ, test sürümüyle yayında!👉🏻 https://onelink.to/sportz\\n\\nVOLE+'a abone olmak için👉 https://www.youtube.com/@voleplus\\n\\nÖnder Özen, Serdar Ali Çelikler, Uğur Karakullukçu, Onur Tuğrul; GetirYemek'in sunduğu Nakavt programında Fenerbahçe - Galatasaray maç sonunu değerlendiriyor. \\n\\n#VOLE #Nakavt #GetirYemek #Fenerbahçe #Galatasaray #Derbi #SüperLig #SerdarAliÇelikler #ÖnderÖzen #UğurKarakullukçu #OnurTuğrul\"}, 'defaultAudioLanguage': 'tr'}, 'contentDetails': {'duration': 'PT1H21M5S', 'dimension': '2d', 'definition': 'hd', 'caption': 'false', 'licensedContent': True, 'contentRating': {}, 'projection': 'rectangular'}, 'statistics': {'viewCount': '442813', 'likeCount': '18551', 'favoriteCount': '0', 'commentCount': '626'}}, {'kind': 'youtube#video', 'etag': 'OFBT4YmVK4j_cjt_vSzLRvBVUaQ', 'id': 'WniQurUyg0Y', 'snippet': {'publishedAt': '2023-12-22T13:37:49Z', 'channelId': 'UCOsDaWlXsSmk6Goqo8tLOsg', 'title': 'Maşallah sana be❤️✨ #shorts', 'description': 'Minnoş olduğu kadar akıllı, maşallah sana❤️🧿 \\n\\n\"Maşallah sana be❤️✨ #shorts\" videoyu beğendiyseniz like butonuna basmayı, kanalımıza abone olmayı ve yorumlarda düşüncelerinizi yazmayı unutmayın! \\n\\n🎯 https://youtube.com/@dogancemm?si=V25kiHaXaEwT2BEC\\n\\n\"Maşallah sana be❤️✨ #shorts\" videomuzu beğendiyseniz kanaldaki diğer videolara göz atabilirsiniz; \\n\\nKarşına Gülçin çıksa ne yapardın?🤣 #shorts \\n📌https://youtube.com/shorts/IdSXSd3NzN4\\n\\nTam hali kanalda yayında💫🌸 #shorts \\n📌https://youtube.com/shorts/cGU07Q0-7Yc\\n\\nHahahha çok tatlılar #shorts \\n📌https://youtube.com/shorts/JhMJtLUyLjk\\n\\nBebeklik çok yorucu bir şey🤣 #shorts \\n📌https://youtube.com/shorts/ze_gPn7q1Hg\\n\\nSosyal Medya hesabından takip etmek isterseniz;\\n📱Instagram: https://instagram.com/dogancem?igshid=MzRlODBiNWFlZA==\\n📱TikTok: https://www.tiktok.com/@dogancem?_t=8gAsPBRguKD&_r=1\\n📱Twitter: https://x.com/1dogancem?s=21&t=3OljZyHTuAiGgn0ltIbuJw\\n\\nDoğan Cem resmi YouTube sayfasıdır.\\n\\nThe official YouTube channel of Doğan Cem\\n\\n #doğancem', 'thumbnails': {'default': {'url': 'https://i.ytimg.com/vi/WniQurUyg0Y/default.jpg', 'width': 120, 'height': 90}, 'medium': {'url': 'https://i.ytimg.com/vi/WniQurUyg0Y/mqdefault.jpg', 'width': 320, 'height': 180}, 'high': {'url': 'https://i.ytimg.com/vi/WniQurUyg0Y/hqdefault.jpg', 'width': 480, 'height': 360}, 'standard': {'url': 'https://i.ytimg.com/vi/WniQurUyg0Y/sddefault.jpg', 'width': 640, 'height': 480}, 'maxres': {'url': 'https://i.ytimg.com/vi/WniQurUyg0Y/maxresdefault.jpg', 'width': 1280, 'height': 720}}, 'channelTitle': 'Doğan Cem', 'tags': ['doğan cem', 'şan eğitmeni', 'vokal koçu', 'doğan cem video', 'doğan cem yorum', 'vokal koçu yorum', 'video yorum', 'doğan cem video yorum', 'doğan cem shorts', 'vokal koçu tepki', 'doğan cem tepki', 'shorts', 'doğan cem ses tonları', 'minnoş olduğu kadar akıllı', 'Maşallah sana', 'tam bir minnoş', 'doğan cem shortsları'], 'categoryId': '22', 'liveBroadcastContent': 'none', 'localized': {'title': 'Maşallah sana be❤️✨ #shorts', 'description': 'Minnoş olduğu kadar akıllı, maşallah sana❤️🧿 \\n\\n\"Maşallah sana be❤️✨ #shorts\" videoyu beğendiyseniz like butonuna basmayı, kanalımıza abone olmayı ve yorumlarda düşüncelerinizi yazmayı unutmayın! \\n\\n🎯 https://youtube.com/@dogancemm?si=V25kiHaXaEwT2BEC\\n\\n\"Maşallah sana be❤️✨ #shorts\" videomuzu beğendiyseniz kanaldaki diğer videolara göz atabilirsiniz; \\n\\nKarşına Gülçin çıksa ne yapardın?🤣 #shorts \\n📌https://youtube.com/shorts/IdSXSd3NzN4\\n\\nTam hali kanalda yayında💫🌸 #shorts \\n📌https://youtube.com/shorts/cGU07Q0-7Yc\\n\\nHahahha çok tatlılar #shorts \\n📌https://youtube.com/shorts/JhMJtLUyLjk\\n\\nBebeklik çok yorucu bir şey🤣 #shorts \\n📌https://youtube.com/shorts/ze_gPn7q1Hg\\n\\nSosyal Medya hesabından takip etmek isterseniz;\\n📱Instagram: https://instagram.com/dogancem?igshid=MzRlODBiNWFlZA==\\n📱TikTok: https://www.tiktok.com/@dogancem?_t=8gAsPBRguKD&_r=1\\n📱Twitter: https://x.com/1dogancem?s=21&t=3OljZyHTuAiGgn0ltIbuJw\\n\\nDoğan Cem resmi YouTube sayfasıdır.\\n\\nThe official YouTube channel of Doğan Cem\\n\\n #doğancem'}, 'defaultAudioLanguage': 'tr'}, 'contentDetails': {'duration': 'PT15S', 'dimension': '2d', 'definition': 'hd', 'caption': 'false', 'licensedContent': True, 'contentRating': {}, 'projection': 'rectangular'}, 'statistics': {'viewCount': '954080', 'likeCount': '36670', 'favoriteCount': '0', 'commentCount': '341'}}, {'kind': 'youtube#video', 'etag': 'j-WZuq6nDgnEynv1CspJShDh6co', 'id': 'tBbtn9QQqpc', 'snippet': {'publishedAt': '2023-12-22T18:32:40Z', 'channelId': 'UCKDcl9hTu9QKe5GGXiXOGaA', 'title': 'Gta 6 hacklendi! Oyun haberleri', 'description': \"Gta 6 hacklendi ve gta 6 hacker'ı yakalandı.  Gta 6 sızıntı videoları ve Gta 6 oynanış görüntüleri oyun haberlerine düştü. Oyun rehberi ve oyun belgeseli tadında oyun hikaye videosu oldu.\", 'thumbnails': {'default': {'url': 'https://i.ytimg.com/vi/tBbtn9QQqpc/default.jpg', 'width': 120, 'height': 90}, 'medium': {'url': 'https://i.ytimg.com/vi/tBbtn9QQqpc/mqdefault.jpg', 'width': 320, 'height': 180}, 'high': {'url': 'https://i.ytimg.com/vi/tBbtn9QQqpc/hqdefault.jpg', 'width': 480, 'height': 360}, 'standard': {'url': 'https://i.ytimg.com/vi/tBbtn9QQqpc/sddefault.jpg', 'width': 640, 'height': 480}, 'maxres': {'url': 'https://i.ytimg.com/vi/tBbtn9QQqpc/maxresdefault.jpg', 'width': 1280, 'height': 720}}, 'channelTitle': 'Berkay Okyar', 'tags': ['gta 6 hacklendi', 'oyun hberleri', 'gta 6 oynanış', 'gta 6 görseller', 'gta 6 sızdı', 'oyun belgeseli', 'oyun hikaye', 'berkay okyar oyun', 'gta 6', 'oyun rehberi', 'bedava oyun', 'en iyi oyunlar', 'popüler oyunlar'], 'categoryId': '20', 'liveBroadcastContent': 'none', 'localized': {'title': 'Gta 6 hacklendi! Oyun haberleri', 'description': \"Gta 6 hacklendi ve gta 6 hacker'ı yakalandı.  Gta 6 sızıntı videoları ve Gta 6 oynanış görüntüleri oyun haberlerine düştü. Oyun rehberi ve oyun belgeseli tadında oyun hikaye videosu oldu.\"}, 'defaultAudioLanguage': 'tr'}, 'contentDetails': {'duration': 'PT45S', 'dimension': '2d', 'definition': 'hd', 'caption': 'false', 'licensedContent': True, 'contentRating': {}, 'projection': 'rectangular'}, 'statistics': {'viewCount': '895956', 'likeCount': '40411', 'favoriteCount': '0', 'commentCount': '244'}}], 'nextPageToken': 'CAoQAA', 'pageInfo': {'totalResults': 125, 'resultsPerPage': 10}}\n"
     ]
    }
   ],
   "source": [
    "request = youtube.videos().list(\n",
    "        part=\"snippet,contentDetails,statistics\",\n",
    "        chart=\"mostPopular\",\n",
    "        maxResults=10,\n",
    "        regionCode=\"TR\"\n",
    "    )\n",
    "response = request.execute()\n",
    "print(response)\n",
    "   "
   ]
  },
  {
   "cell_type": "markdown",
   "metadata": {},
   "source": [
    "Json code converter :\n",
    "\n",
    "- https://www.objgen.com/json/local/rh49EaBVJ\n",
    "- https://jsonformatter.org/json-editor"
   ]
  },
  {
   "cell_type": "markdown",
   "metadata": {},
   "source": [
    "Videos Like According to the views"
   ]
  },
  {
   "cell_type": "code",
   "execution_count": 74,
   "metadata": {},
   "outputs": [
    {
     "data": {
      "text/plain": [
       "{'viewCount': '1627983',\n",
       " 'likeCount': '24880',\n",
       " 'favoriteCount': '0',\n",
       " 'commentCount': '3616'}"
      ]
     },
     "execution_count": 74,
     "metadata": {},
     "output_type": "execute_result"
    }
   ],
   "source": [
    "#For first row at TR popular videos\n",
    "statistics = response[\"items\"][0]['statistics']\n",
    "statistics\n"
   ]
  },
  {
   "cell_type": "markdown",
   "metadata": {},
   "source": [
    "Method for Fuction"
   ]
  },
  {
   "cell_type": "code",
   "execution_count": 75,
   "metadata": {},
   "outputs": [],
   "source": [
    "def get_most_pop_Youtube_TR(youtube):\n",
    "    all_data = []\n",
    "\n",
    "# This request method is defined as below . You can include what you want in part. \n",
    "    # https://developers.google.com/youtube/v3/docs/channels/list#usage you can look detailly.\n",
    "    \n",
    "    request = youtube.videos().list(\n",
    "        part=\"snippet,contentDetails,statistics\",\n",
    "        chart=\"mostPopular\",\n",
    "        regionCode=\"TR\",\n",
    "    )\n",
    "    response = request.execute()\n",
    "\n",
    "\n",
    "    # loop through items in response\n",
    "    #json webpage ( https://jsonformatter.org/json-editor) is sooo good to anayze.\n",
    "    for item in response[\"items\"]:\n",
    "        data = {'channelName': item['snippet']['title'],\n",
    "                'PublishTime': item['snippet']['publishedAt'],\n",
    "                'views': item['statistics']['viewCount'],\n",
    "                'LikeCount':item['statistics']['likeCount'],\n",
    "                'CommentCount':item['statistics']['commentCount'],\n",
    "                'Duration': item['contentDetails']['duration'],\n",
    "                'videoID': item['id']\n",
    "        }\n",
    "        all_data.append(data)\n",
    "\n",
    "    return pd.DataFrame(all_data)"
   ]
  },
  {
   "cell_type": "code",
   "execution_count": 76,
   "metadata": {},
   "outputs": [],
   "source": [
    "TR_Youtube_Most_Pop=get_most_pop_Youtube_TR(youtube)"
   ]
  },
  {
   "cell_type": "code",
   "execution_count": 77,
   "metadata": {},
   "outputs": [
    {
     "data": {
      "text/html": [
       "<div>\n",
       "<style scoped>\n",
       "    .dataframe tbody tr th:only-of-type {\n",
       "        vertical-align: middle;\n",
       "    }\n",
       "\n",
       "    .dataframe tbody tr th {\n",
       "        vertical-align: top;\n",
       "    }\n",
       "\n",
       "    .dataframe thead th {\n",
       "        text-align: right;\n",
       "    }\n",
       "</style>\n",
       "<table border=\"1\" class=\"dataframe\">\n",
       "  <thead>\n",
       "    <tr style=\"text-align: right;\">\n",
       "      <th></th>\n",
       "      <th>channelName</th>\n",
       "      <th>PublishTime</th>\n",
       "      <th>views</th>\n",
       "      <th>LikeCount</th>\n",
       "      <th>CommentCount</th>\n",
       "      <th>Duration</th>\n",
       "      <th>videoID</th>\n",
       "    </tr>\n",
       "  </thead>\n",
       "  <tbody>\n",
       "    <tr>\n",
       "      <th>0</th>\n",
       "      <td>Kızıl Goncalar 2. Bölüm</td>\n",
       "      <td>2023-12-25T19:32:41Z</td>\n",
       "      <td>1627983</td>\n",
       "      <td>24880</td>\n",
       "      <td>3616</td>\n",
       "      <td>PT2H4M12S</td>\n",
       "      <td>5nXRi1dkRps</td>\n",
       "    </tr>\n",
       "    <tr>\n",
       "      <th>1</th>\n",
       "      <td>Hudutsuz Sevda 14. Bölüm 1. Fragmanı | Seninle...</td>\n",
       "      <td>2023-12-25T16:07:54Z</td>\n",
       "      <td>1214865</td>\n",
       "      <td>26806</td>\n",
       "      <td>1317</td>\n",
       "      <td>PT42S</td>\n",
       "      <td>aysE7ClWANA</td>\n",
       "    </tr>\n",
       "    <tr>\n",
       "      <th>2</th>\n",
       "      <td>Z Kuşağı Mahkemesi 2</td>\n",
       "      <td>2023-12-22T16:47:21Z</td>\n",
       "      <td>3036953</td>\n",
       "      <td>225320</td>\n",
       "      <td>902</td>\n",
       "      <td>PT58S</td>\n",
       "      <td>WCkfdVI9ZPU</td>\n",
       "    </tr>\n",
       "    <tr>\n",
       "      <th>3</th>\n",
       "      <td>Osman Kalyoncu Telefonu Yaktık we burned the p...</td>\n",
       "      <td>2023-12-25T15:12:32Z</td>\n",
       "      <td>473961</td>\n",
       "      <td>8115</td>\n",
       "      <td>56</td>\n",
       "      <td>PT20S</td>\n",
       "      <td>om24h4ZocS8</td>\n",
       "    </tr>\n",
       "    <tr>\n",
       "      <th>4</th>\n",
       "      <td>Hoşgelmedin 2024 Yılbaşı Partisi</td>\n",
       "      <td>2023-12-25T14:19:55Z</td>\n",
       "      <td>360587</td>\n",
       "      <td>23234</td>\n",
       "      <td>156</td>\n",
       "      <td>PT1M1S</td>\n",
       "      <td>i29Ch25se2A</td>\n",
       "    </tr>\n",
       "  </tbody>\n",
       "</table>\n",
       "</div>"
      ],
      "text/plain": [
       "                                         channelName           PublishTime  \\\n",
       "0                            Kızıl Goncalar 2. Bölüm  2023-12-25T19:32:41Z   \n",
       "1  Hudutsuz Sevda 14. Bölüm 1. Fragmanı | Seninle...  2023-12-25T16:07:54Z   \n",
       "2                               Z Kuşağı Mahkemesi 2  2023-12-22T16:47:21Z   \n",
       "3  Osman Kalyoncu Telefonu Yaktık we burned the p...  2023-12-25T15:12:32Z   \n",
       "4                   Hoşgelmedin 2024 Yılbaşı Partisi  2023-12-25T14:19:55Z   \n",
       "\n",
       "     views LikeCount CommentCount   Duration      videoID  \n",
       "0  1627983     24880         3616  PT2H4M12S  5nXRi1dkRps  \n",
       "1  1214865     26806         1317      PT42S  aysE7ClWANA  \n",
       "2  3036953    225320          902      PT58S  WCkfdVI9ZPU  \n",
       "3   473961      8115           56      PT20S  om24h4ZocS8  \n",
       "4   360587     23234          156     PT1M1S  i29Ch25se2A  "
      ]
     },
     "execution_count": 77,
     "metadata": {},
     "output_type": "execute_result"
    }
   ],
   "source": [
    "TR_Youtube_Most_Pop.head()"
   ]
  },
  {
   "cell_type": "code",
   "execution_count": 78,
   "metadata": {},
   "outputs": [],
   "source": [
    "TR_Youtube_Most_Pop.insert(2,'LikeC/Views',TR_Youtube_Most_Pop['LikeCount'].astype(int) / TR_Youtube_Most_Pop['views'].astype(int))\n"
   ]
  },
  {
   "cell_type": "code",
   "execution_count": 79,
   "metadata": {},
   "outputs": [
    {
     "data": {
      "text/html": [
       "<div>\n",
       "<style scoped>\n",
       "    .dataframe tbody tr th:only-of-type {\n",
       "        vertical-align: middle;\n",
       "    }\n",
       "\n",
       "    .dataframe tbody tr th {\n",
       "        vertical-align: top;\n",
       "    }\n",
       "\n",
       "    .dataframe thead th {\n",
       "        text-align: right;\n",
       "    }\n",
       "</style>\n",
       "<table border=\"1\" class=\"dataframe\">\n",
       "  <thead>\n",
       "    <tr style=\"text-align: right;\">\n",
       "      <th></th>\n",
       "      <th>channelName</th>\n",
       "      <th>PublishTime</th>\n",
       "      <th>LikeC/Views</th>\n",
       "      <th>views</th>\n",
       "      <th>LikeCount</th>\n",
       "      <th>CommentCount</th>\n",
       "      <th>Duration</th>\n",
       "      <th>videoID</th>\n",
       "    </tr>\n",
       "  </thead>\n",
       "  <tbody>\n",
       "    <tr>\n",
       "      <th>0</th>\n",
       "      <td>Kızıl Goncalar 2. Bölüm</td>\n",
       "      <td>2023-12-25T19:32:41Z</td>\n",
       "      <td>0.015283</td>\n",
       "      <td>1627983</td>\n",
       "      <td>24880</td>\n",
       "      <td>3616</td>\n",
       "      <td>PT2H4M12S</td>\n",
       "      <td>5nXRi1dkRps</td>\n",
       "    </tr>\n",
       "    <tr>\n",
       "      <th>3</th>\n",
       "      <td>Osman Kalyoncu Telefonu Yaktık we burned the p...</td>\n",
       "      <td>2023-12-25T15:12:32Z</td>\n",
       "      <td>0.017122</td>\n",
       "      <td>473961</td>\n",
       "      <td>8115</td>\n",
       "      <td>56</td>\n",
       "      <td>PT20S</td>\n",
       "      <td>om24h4ZocS8</td>\n",
       "    </tr>\n",
       "    <tr>\n",
       "      <th>1</th>\n",
       "      <td>Hudutsuz Sevda 14. Bölüm 1. Fragmanı | Seninle...</td>\n",
       "      <td>2023-12-25T16:07:54Z</td>\n",
       "      <td>0.022065</td>\n",
       "      <td>1214865</td>\n",
       "      <td>26806</td>\n",
       "      <td>1317</td>\n",
       "      <td>PT42S</td>\n",
       "      <td>aysE7ClWANA</td>\n",
       "    </tr>\n",
       "    <tr>\n",
       "      <th>4</th>\n",
       "      <td>Hoşgelmedin 2024 Yılbaşı Partisi</td>\n",
       "      <td>2023-12-25T14:19:55Z</td>\n",
       "      <td>0.064434</td>\n",
       "      <td>360587</td>\n",
       "      <td>23234</td>\n",
       "      <td>156</td>\n",
       "      <td>PT1M1S</td>\n",
       "      <td>i29Ch25se2A</td>\n",
       "    </tr>\n",
       "    <tr>\n",
       "      <th>2</th>\n",
       "      <td>Z Kuşağı Mahkemesi 2</td>\n",
       "      <td>2023-12-22T16:47:21Z</td>\n",
       "      <td>0.074193</td>\n",
       "      <td>3036953</td>\n",
       "      <td>225320</td>\n",
       "      <td>902</td>\n",
       "      <td>PT58S</td>\n",
       "      <td>WCkfdVI9ZPU</td>\n",
       "    </tr>\n",
       "  </tbody>\n",
       "</table>\n",
       "</div>"
      ],
      "text/plain": [
       "                                         channelName           PublishTime  \\\n",
       "0                            Kızıl Goncalar 2. Bölüm  2023-12-25T19:32:41Z   \n",
       "3  Osman Kalyoncu Telefonu Yaktık we burned the p...  2023-12-25T15:12:32Z   \n",
       "1  Hudutsuz Sevda 14. Bölüm 1. Fragmanı | Seninle...  2023-12-25T16:07:54Z   \n",
       "4                   Hoşgelmedin 2024 Yılbaşı Partisi  2023-12-25T14:19:55Z   \n",
       "2                               Z Kuşağı Mahkemesi 2  2023-12-22T16:47:21Z   \n",
       "\n",
       "   LikeC/Views    views LikeCount CommentCount   Duration      videoID  \n",
       "0     0.015283  1627983     24880         3616  PT2H4M12S  5nXRi1dkRps  \n",
       "3     0.017122   473961      8115           56      PT20S  om24h4ZocS8  \n",
       "1     0.022065  1214865     26806         1317      PT42S  aysE7ClWANA  \n",
       "4     0.064434   360587     23234          156     PT1M1S  i29Ch25se2A  \n",
       "2     0.074193  3036953    225320          902      PT58S  WCkfdVI9ZPU  "
      ]
     },
     "execution_count": 79,
     "metadata": {},
     "output_type": "execute_result"
    }
   ],
   "source": [
    "TR_Youtube_Most_Pop.sort_values(by=['LikeC/Views'])"
   ]
  }
 ],
 "metadata": {
  "kernelspec": {
   "display_name": "Python 3",
   "language": "python",
   "name": "python3"
  },
  "language_info": {
   "codemirror_mode": {
    "name": "ipython",
    "version": 3
   },
   "file_extension": ".py",
   "mimetype": "text/x-python",
   "name": "python",
   "nbconvert_exporter": "python",
   "pygments_lexer": "ipython3",
   "version": "3.9.13"
  }
 },
 "nbformat": 4,
 "nbformat_minor": 2
}
