{
 "cells": [
  {
   "cell_type": "code",
   "execution_count": 54,
   "metadata": {},
   "outputs": [],
   "source": [
    "import pandas as pd\n",
    "\n",
    "from googleapiclient.discovery import build\n",
    "from IPython.display import JSON\n",
    "\n",
    "from config import Youtube_API_Key\n",
    "import api_methods\n",
    "from api_methods import get_video_ids\n",
    "from api_methods import get_channel_stats\n"
   ]
  },
  {
   "cell_type": "code",
   "execution_count": 55,
   "metadata": {},
   "outputs": [],
   "source": [
    "# Get credentials and create an API client\n",
    "api_service_name = \"youtube\"\n",
    "api_version = \"v3\"\n",
    "\n",
    "youtube = build(api_service_name, api_version, developerKey=Youtube_API_Key)"
   ]
  },
  {
   "cell_type": "code",
   "execution_count": 56,
   "metadata": {},
   "outputs": [],
   "source": [
    "# Channels to analyze\n",
    "channel_ids = [\n",
    "    \"UCYO_jab_esuFRV4b17AJtAw\",\n",
    "    # Can add more channels\n",
    "]"
   ]
  },
  {
   "cell_type": "code",
   "execution_count": 57,
   "metadata": {},
   "outputs": [],
   "source": [
    "channel_stats  = get_channel_stats(youtube, channel_ids)"
   ]
  },
  {
   "cell_type": "code",
   "execution_count": 58,
   "metadata": {},
   "outputs": [
    {
     "data": {
      "text/html": [
       "<div>\n",
       "<style scoped>\n",
       "    .dataframe tbody tr th:only-of-type {\n",
       "        vertical-align: middle;\n",
       "    }\n",
       "\n",
       "    .dataframe tbody tr th {\n",
       "        vertical-align: top;\n",
       "    }\n",
       "\n",
       "    .dataframe thead th {\n",
       "        text-align: right;\n",
       "    }\n",
       "</style>\n",
       "<table border=\"1\" class=\"dataframe\">\n",
       "  <thead>\n",
       "    <tr style=\"text-align: right;\">\n",
       "      <th></th>\n",
       "      <th>channelName</th>\n",
       "      <th>subscribers</th>\n",
       "      <th>views</th>\n",
       "      <th>totalVideos</th>\n",
       "      <th>playlistId</th>\n",
       "    </tr>\n",
       "  </thead>\n",
       "  <tbody>\n",
       "    <tr>\n",
       "      <th>0</th>\n",
       "      <td>3Blue1Brown</td>\n",
       "      <td>5710000</td>\n",
       "      <td>404355901</td>\n",
       "      <td>157</td>\n",
       "      <td>UUYO_jab_esuFRV4b17AJtAw</td>\n",
       "    </tr>\n",
       "  </tbody>\n",
       "</table>\n",
       "</div>"
      ],
      "text/plain": [
       "   channelName subscribers      views totalVideos                playlistId\n",
       "0  3Blue1Brown     5710000  404355901         157  UUYO_jab_esuFRV4b17AJtAw"
      ]
     },
     "execution_count": 58,
     "metadata": {},
     "output_type": "execute_result"
    }
   ],
   "source": [
    "channel_stats"
   ]
  },
  {
   "cell_type": "code",
   "execution_count": 60,
   "metadata": {},
   "outputs": [],
   "source": [
    "playlist_id = channel_stats.loc[channel_stats['channelName']== \"3Blue1Brown\", \"playlistId\"].iloc[0]"
   ]
  },
  {
   "cell_type": "code",
   "execution_count": 61,
   "metadata": {},
   "outputs": [],
   "source": [
    "video_ids = get_video_ids(youtube, playlist_id)"
   ]
  },
  {
   "cell_type": "code",
   "execution_count": 62,
   "metadata": {},
   "outputs": [
    {
     "data": {
      "text/plain": [
       "['tjIOqIr80ns',\n",
       " 'W1gW1dHRsOw',\n",
       " 'p9i3cYMQtBY',\n",
       " 'X4jpqCu-wlA',\n",
       " 'GOSezO0CHss',\n",
       " 'JHuxMHPATtg',\n",
       " 'TaopSi3Ucfc',\n",
       " 'BIbHGfdjc_g',\n",
       " '4xWpQe3G9qI',\n",
       " 'VS9yOhwtVDY',\n",
       " 'Cm-zmm0nANo',\n",
       " 'yZMw2rOKYwE',\n",
       " 'NQFIU5Exjuo',\n",
       " 'h2V3r7oBeMI',\n",
       " '31xm81m0iYs',\n",
       " 'nXIHYB0Gp70',\n",
       " '1tLvj_HSjPk',\n",
       " 'GSIuXqgPsnY',\n",
       " 'P11ykXwx4-k',\n",
       " 'VFbyGEZLMZw',\n",
       " 'Cz4Q4QOuoo8',\n",
       " 'KTzGBJPuJwM',\n",
       " '6a1fLEToyvU',\n",
       " 'aXRTczANuIs',\n",
       " 'QCX62YJCmGk',\n",
       " 'd_qvLDhkg00',\n",
       " 'YtkIWDE36qU',\n",
       " 'NOCsdhzo6Jg',\n",
       " 'IaSGqQa5O-M',\n",
       " 'cy8r7WSuT1I',\n",
       " 'zeJD6dqJ5lo',\n",
       " 'KuXjwB4LzSA',\n",
       " '851U557j6HE',\n",
       " 'cDofhN-RJqg',\n",
       " 'VYQVlVoWoPY',\n",
       " 'hZuYICAEN9Y',\n",
       " 'bOXCLR3Wric',\n",
       " 'fRed0Xmc2Wg',\n",
       " 'v68zYyaEmEA',\n",
       " 'ltLUadnCyi0',\n",
       " 'F3Qixy-r_rQ',\n",
       " 'LqbZpur38nw',\n",
       " '-RdOwhmqP5s',\n",
       " 'ojjzXyQCzso',\n",
       " 'e50Bj7jn9IQ',\n",
       " 'O85OWBJ2ayo',\n",
       " 'lG4VkPoG3ko',\n",
       " 'b3NxrZOu_CE',\n",
       " 'X8jsijhllIA',\n",
       " 'mH0oCDa74tE',\n",
       " 'wTJI_WuZSwE',\n",
       " 'QvuQH4_05LI',\n",
       " 'pq9LcwC7CoY',\n",
       " 'D__UaR5MQao',\n",
       " 'elQVZLLiod4',\n",
       " '4PDoT7jtxmw',\n",
       " 'cEvgcoyZvB4',\n",
       " 'IAEASE5GjdI',\n",
       " 'ZxYOEwM6Wbk',\n",
       " '5PcpBw5Hbwo',\n",
       " 'yBw67Fb31Cs',\n",
       " 'MHXO86wKeDY',\n",
       " 'ppWPuXsnf1Q',\n",
       " 'ZA4JkHKZM50',\n",
       " 'gxAaO2rsdIs',\n",
       " '8idr1WZ1A7Q',\n",
       " 'Kas0tIxDvrg',\n",
       " 'U_85TaXbeIo',\n",
       " 'HZGCoVF3YvM',\n",
       " 'Agbh95KyWxY',\n",
       " 'EK32jo7i5LQ',\n",
       " 'M64HUIJFTZM',\n",
       " 'v0YEaeIClKY',\n",
       " '-qgreAUpPwM',\n",
       " 'r6sGWTCMz2k',\n",
       " 'ToIXSwZ1pJU',\n",
       " 'ly4S0oi3Yz8',\n",
       " 'p_di4Zn4wz4',\n",
       " 'jBsC34PxzoM',\n",
       " 'brU5yLm9DZM',\n",
       " 'jsYwFizhncE',\n",
       " 'HEfHFsfGXjs',\n",
       " 'GNcFjFmqEc8',\n",
       " 'yuVqxCSsE7c',\n",
       " '_UoTTq651dE',\n",
       " 'zjMuIxRvygQ',\n",
       " 'd4EgbgTm0Bg',\n",
       " 'Qe6o9j4IjTo',\n",
       " 'pQa_tWZmlGs',\n",
       " 'VcgJro0sTiM',\n",
       " 'rB83DpBJQsE',\n",
       " 'CfW845LNObM',\n",
       " '8GPy_UMV-08',\n",
       " 'b7FxPsqfkOY',\n",
       " 'bcPTiiiYDs8',\n",
       " 'd-o3eB9sfls',\n",
       " 'MBnnXbOM5S4',\n",
       " 'spUNpyF58BY',\n",
       " 'VvCytJvd4H0',\n",
       " 'liL66CApESk',\n",
       " 'OkmNXy7er84',\n",
       " 'tIeHLnjs5U8',\n",
       " 'Ilg3gGewQ5U',\n",
       " 'IHZwWFHWa-w',\n",
       " 'aircAruvnKk',\n",
       " 'MzRCDLre1b4',\n",
       " 'zwAD6dRSVyI',\n",
       " '3s7h2MHQtxc',\n",
       " 'S9JGmA5_unY',\n",
       " 'bBC-nXj3Ng4',\n",
       " 'QJYmyhnaaek',\n",
       " 'NaL_Cb42WyY',\n",
       " '3d6DsjIBzJ4',\n",
       " 'BLkz5LGWihw',\n",
       " 'FnJqaIESC2s',\n",
       " 'rfG8ce4nNh0',\n",
       " 'kfF40MiS7zA',\n",
       " 'qb40J4N1fa4',\n",
       " 'm2MIpDrF7Es',\n",
       " 'YG15m2VwSjA',\n",
       " 'S0_qX4VJhMQ',\n",
       " '9vKqVkMQHKk',\n",
       " 'WUvTyaaNkzM',\n",
       " 'mvmuCPvRoWQ',\n",
       " 'gB9n2gHsHN4',\n",
       " 'IxNb1WG_Ido',\n",
       " 'sD0NjbwqlYw',\n",
       " 'bdMfjfT0lKk',\n",
       " '2SUvWfNJSsM',\n",
       " 'R7p-nPg8t_g',\n",
       " 'AmgkSdhK4K8',\n",
       " 'TgKwz5Ikpc8',\n",
       " 'PFDu9oVAE-g',\n",
       " 'P2LTAUO1TdA',\n",
       " 'BaM7OCEm3G0',\n",
       " 'eu6i7WJeinw',\n",
       " 'LyGKycYT2v0',\n",
       " 'v8VSDg_WQlA',\n",
       " 'uQhTuRlWMxw',\n",
       " 'Ip3X9LOh2dk',\n",
       " 'rHLEWRxRGiM',\n",
       " 'XkY2DOUCWMU',\n",
       " 'kYB8IZa5AuE',\n",
       " 'k7RM-ot2NWY',\n",
       " 'fNk_zzaMoSs',\n",
       " 'kjBOesZCoqc',\n",
       " 'sULa9Lc4pck',\n",
       " 'Cld0p3a43fU',\n",
       " 'Iq1a_KJTWJ8',\n",
       " 'RU0wScIj36o',\n",
       " 'cyW5z-M2yzw',\n",
       " '1SMmc9gQmHQ',\n",
       " 'XFDM1ip5HdU',\n",
       " '-9OUyo8NFZg',\n",
       " '84hEmGHw3J8',\n",
       " 'zLzLxVeqdQg',\n",
       " 'F_0yfvm0UoU']"
      ]
     },
     "execution_count": 62,
     "metadata": {},
     "output_type": "execute_result"
    }
   ],
   "source": [
    "video_ids"
   ]
  },
  {
   "cell_type": "code",
   "execution_count": 63,
   "metadata": {},
   "outputs": [
    {
     "data": {
      "text/plain": [
       "157"
      ]
     },
     "execution_count": 63,
     "metadata": {},
     "output_type": "execute_result"
    }
   ],
   "source": [
    "len(video_ids)"
   ]
  }
 ],
 "metadata": {
  "kernelspec": {
   "display_name": "Python 3",
   "language": "python",
   "name": "python3"
  },
  "language_info": {
   "codemirror_mode": {
    "name": "ipython",
    "version": 3
   },
   "file_extension": ".py",
   "mimetype": "text/x-python",
   "name": "python",
   "nbconvert_exporter": "python",
   "pygments_lexer": "ipython3",
   "version": "3.9.13"
  }
 },
 "nbformat": 4,
 "nbformat_minor": 2
}
